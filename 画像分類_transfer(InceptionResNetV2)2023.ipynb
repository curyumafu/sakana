{
  "nbformat": 4,
  "nbformat_minor": 0,
  "metadata": {
    "colab": {
      "provenance": [],
      "gpuType": "T4",
      "include_colab_link": true
    },
    "kernelspec": {
      "name": "python3",
      "display_name": "Python 3"
    },
    "language_info": {
      "name": "python"
    },
    "accelerator": "GPU"
  },
  "cells": [
    {
      "cell_type": "markdown",
      "metadata": {
        "id": "view-in-github",
        "colab_type": "text"
      },
      "source": [
        "<a href=\"https://colab.research.google.com/github/curyumafu/sakana/blob/main/%E7%94%BB%E5%83%8F%E5%88%86%E9%A1%9E_transfer(InceptionResNetV2)2023.ipynb\" target=\"_parent\"><img src=\"https://colab.research.google.com/assets/colab-badge.svg\" alt=\"Open In Colab\"/></a>"
      ]
    },
    {
      "cell_type": "code",
      "execution_count": 1,
      "metadata": {
        "id": "Mcw_F_WoIacu",
        "colab": {
          "base_uri": "https://localhost:8080/"
        },
        "outputId": "f6372614-28ff-4ba7-880e-49921c6137c5"
      },
      "outputs": [
        {
          "output_type": "stream",
          "name": "stdout",
          "text": [
            "\u001b[2K     \u001b[90m━━━━━━━━━━━━━━━━━━━━━━━━━━━━━━━━━━━━━━━━\u001b[0m \u001b[32m9.6/9.6 MB\u001b[0m \u001b[31m59.8 MB/s\u001b[0m eta \u001b[36m0:00:00\u001b[0m\n",
            "\u001b[2K     \u001b[90m━━━━━━━━━━━━━━━━━━━━━━━━━━━━━━━━━━━━━━━━\u001b[0m \u001b[32m164.8/164.8 kB\u001b[0m \u001b[31m21.8 MB/s\u001b[0m eta \u001b[36m0:00:00\u001b[0m\n",
            "\u001b[2K     \u001b[90m━━━━━━━━━━━━━━━━━━━━━━━━━━━━━━━━━━━━━━━━\u001b[0m \u001b[32m196.4/196.4 kB\u001b[0m \u001b[31m25.2 MB/s\u001b[0m eta \u001b[36m0:00:00\u001b[0m\n",
            "\u001b[2K     \u001b[90m━━━━━━━━━━━━━━━━━━━━━━━━━━━━━━━━━━━━━━━━\u001b[0m \u001b[32m4.8/4.8 MB\u001b[0m \u001b[31m71.4 MB/s\u001b[0m eta \u001b[36m0:00:00\u001b[0m\n",
            "\u001b[2K     \u001b[90m━━━━━━━━━━━━━━━━━━━━━━━━━━━━━━━━━━━━━━━━\u001b[0m \u001b[32m82.1/82.1 kB\u001b[0m \u001b[31m12.7 MB/s\u001b[0m eta \u001b[36m0:00:00\u001b[0m\n",
            "\u001b[2K     \u001b[90m━━━━━━━━━━━━━━━━━━━━━━━━━━━━━━━━━━━━━━━━\u001b[0m \u001b[32m62.7/62.7 kB\u001b[0m \u001b[31m9.3 MB/s\u001b[0m eta \u001b[36m0:00:00\u001b[0m\n",
            "\u001b[?25h  Preparing metadata (setup.py) ... \u001b[?25l\u001b[?25hdone\n",
            "  Building wheel for pyngrok (setup.py) ... \u001b[?25l\u001b[?25hdone\n"
          ]
        }
      ],
      "source": [
        "!pip install streamlit==1.20.0 --quiet\n",
        "!pip install pyngrok==4.1.1 --quiet"
      ]
    },
    {
      "cell_type": "code",
      "execution_count": 2,
      "metadata": {
        "id": "Pbqipzj3nCy4"
      },
      "outputs": [],
      "source": [
        "import streamlit as st\n",
        "from pyngrok import ngrok"
      ]
    },
    {
      "cell_type": "code",
      "source": [
        "%%writefile app.py\n",
        "from google.colab import drive, output\n",
        "from google.colab.patches import cv2_imshow\n",
        "from IPython.display import display, Javascript\n",
        "from IPython.display import JSON as IPython_JSON\n",
        "from PIL import Image, ImageFont, ImageDraw\n",
        "import pickle\n",
        "import cv2\n",
        "import numpy as np\n",
        "from io import BytesIO\n",
        "import base64\n",
        "from keras.applications.inception_resnet_v2 import InceptionResNetV2, preprocess_input, decode_predictions\n",
        "from keras.preprocessing import image\n",
        "import tensorflow as tf\n",
        "\n",
        "\n",
        "\n",
        "drive.mount('/content/drive')\n",
        "%cd /content/drive/MyDrive/実験III_AI演習（ImageNet）2023\n",
        "\n",
        "\n",
        "\n",
        "# クラスラベルの読み込み\n",
        "classes = pickle.load(open('classes.sav', 'rb'))\n",
        "\n",
        "\n",
        "\n",
        "# クラスラベルをリストとして表示\n",
        "for i, class_label in enumerate(classes):\n",
        "    print(f\"Class {i}: {class_label}\")\n",
        "\n",
        "\n",
        "\n",
        "def img_add_msg(img, message):\n",
        "    \"\"\"画像にメッセージを追加する関数\"\"\"\n",
        "    font_path = 'ipaexg.ttf'\n",
        "    font_size = 20\n",
        "    font = ImageFont.truetype(font_path, font_size)  # フォントの定義\n",
        "    draw = ImageDraw.Draw(img)  # 描画用のDraw関数\n",
        "    draw.text((0, 30), message, font=font, fill=(255, 255, 255, 0))  # テキストを描画\n",
        "    return img\n",
        "\n",
        "\n",
        "\n",
        "# モデルの読み込み (SavedModel 形式)\n",
        "model = tf.keras.models.load_model('./cnn_saved_model')\n",
        "\n",
        "\n",
        "\n",
        "# コメントを返す関数（クラスごとに変更が必要です）\n",
        "def get_comment_for_class(class_label):\n",
        "    # ここで各クラスに対応したコメントを返すように実装してください\n",
        "    # 例: クラス 'cat' に対応したコメント\n",
        "    if class_label == 'アカザ':\n",
        "        return \"この魚はアカザという魚です。\\n胸びれと背びれの部分に\\n毒がある可能性があるため\\n気をつけてください\"\n",
        "    # 例: クラス 'dog' に対応したコメント\n",
        "    elif class_label == 'アユ':\n",
        "        return \"この魚はアユという魚です。\\n毒は特にありません\"\n",
        "    elif class_label == 'ウナギ':\n",
        "        return \"この魚はウナギという魚です。\\n体に毒はありませんが\\n新鮮な血には毒があるため気を付けてください\"\n",
        "    elif class_label == 'カジカ':\n",
        "        return \"この魚はカジカという魚です。\\n毒は特にありません\"\n",
        "    elif class_label == 'コイ':\n",
        "        return \"この魚はコイという魚です。\\nコイの胆嚢にはコイ毒が含まれている\\n可能性があるため調理する際は気をつけてください\"\n",
        "    elif class_label == 'サケ':\n",
        "        return \"この魚はサケという魚です。\\n毒は特にありません\"\n",
        "    elif class_label == 'サンフィッシュ':\n",
        "        return \"この魚はサンフィッシュという魚です。\\n毒は特にありません\"\n",
        "    elif class_label == 'ドジョウ':\n",
        "        return \"この魚はドジョウという魚です。\\n毒は特にありません\"\n",
        "    elif class_label == 'ナマズ':\n",
        "        return \"\"\n",
        "    elif class_label == 'ハゼ':\n",
        "        return \"これは9で釣れます\"\n",
        "    elif class_label == '背景':\n",
        "        return \"これは背景です\"\n",
        "    else:\n",
        "        return \"No specific comment for this class yet.\"\n",
        "\n",
        "\n",
        "\n",
        "def run(img_str):\n",
        "    \"\"\"画像処理と予測を行う関数\"\"\"\n",
        "    # 画像のデコード\n",
        "    decimg = base64.b64decode(img_str.split(',')[1], validate=True)\n",
        "    decimg = Image.open(BytesIO(decimg))\n",
        "    decimg = np.array(decimg, dtype=np.uint8)\n",
        "    decimg = cv2.cvtColor(decimg, cv2.COLOR_BGR2RGB)\n",
        "\n",
        "\n",
        "\n",
        "    # 画像のトリミングと前処理\n",
        "    trim_frame = decimg[:299, :299]\n",
        "    x = image.img_to_array(trim_frame)\n",
        "    x = np.expand_dims(x, axis=0)\n",
        "    x = preprocess_input(x)\n",
        "\n",
        "\n",
        "\n",
        "    # 予測\n",
        "    preds = model.predict(x, verbose=0)\n",
        "    prelabel = np.argmax(preds, axis=1)[0]\n",
        "    class_label = classes[prelabel]\n",
        "    confidence = preds[0][prelabel] * 100\n",
        "    message = f\"{class_label} {confidence:.2f}%\"\n",
        "\n",
        "\n",
        "\n",
        "    # クラスに対応したコメントを取得\n",
        "    comment = get_comment_for_class(class_label)\n",
        "\n",
        "\n",
        "\n",
        "    # 画像にメッセージとコメントを追加\n",
        "    img = Image.fromarray(trim_frame)\n",
        "    img = img_add_msg(img, f\"{message}\\n{comment}\")\n",
        "    img = np.array(img)\n",
        "\n",
        "\n",
        "\n",
        "    # 画像をエンコードして送信\n",
        "    _, encimg = cv2.imencode(\".jpg\", img, [int(cv2.IMWRITE_JPEG_QUALITY), 80])\n",
        "    img_str = encimg.tobytes()\n",
        "    img_str = \"data:image/jpeg;base64,\" + base64.b64encode(img_str).decode('utf-8')\n",
        "    return IPython_JSON({'img_str': img_str})\n",
        "\n",
        "\n",
        "\n",
        "# コールバックの登録\n",
        "output.register_callback('notebook.run', run)\n",
        "\n",
        "\n",
        "\n",
        "from google.colab.output import eval_js\n",
        "\n",
        "\n",
        "\n",
        "def use_cam(quality=0.8):\n",
        "    \"\"\"ウェブカメラを使用して画像を取得し、処理を行う関数\"\"\"\n",
        "    js = Javascript('''\n",
        "    async function useCam(quality) {\n",
        "      const div = document.createElement('div');\n",
        "      document.body.appendChild(div);\n",
        "      //video element\n",
        "      const video = document.createElement('video');\n",
        "      video.style.display = 'None';\n",
        "      const stream = await navigator.mediaDevices.getUserMedia({video: true});\n",
        "      div.appendChild(video);\n",
        "      video.srcObject = stream;\n",
        "      await video.play();\n",
        "\n",
        "      //canvas for display. frame rate is depending on display size and jpeg quality.\n",
        "      display_size = 299\n",
        "      const src_canvas = document.createElement('canvas');\n",
        "      src_canvas.width  = display_size;\n",
        "      src_canvas.height = display_size;;\n",
        "      const src_canvasCtx = src_canvas.getContext('2d');\n",
        "      src_canvasCtx.translate(src_canvas.width, 0);\n",
        "      src_canvasCtx.scale(-1, 1);\n",
        "      div.appendChild(src_canvas);\n",
        "\n",
        "      const dst_canvas = document.createElement('canvas');\n",
        "      dst_canvas.width  = src_canvas.width;\n",
        "      dst_canvas.height = src_canvas.height;\n",
        "      const dst_canvasCtx = dst_canvas.getContext('2d');\n",
        "      div.appendChild(dst_canvas);\n",
        "\n",
        "      //exit button\n",
        "      const btn_div = document.createElement('div');\n",
        "      document.body.appendChild(btn_div);\n",
        "      const exit_btn = document.createElement('button');\n",
        "      exit_btn.textContent = 'Exit';\n",
        "      var exit_flg = true\n",
        "      exit_btn.onclick = function() {exit_flg = false};\n",
        "      btn_div.appendChild(exit_btn);\n",
        "\n",
        "      // Resize the output to fit the video element.\n",
        "      google.colab.output.setIframeHeight(document.documentElement.scrollHeight, true);\n",
        "\n",
        "      var send_num = 0\n",
        "      // loop\n",
        "      _canvasUpdate();\n",
        "      async function _canvasUpdate() {\n",
        "            src_canvasCtx.drawImage(video, 0, 0, video.videoWidth, video.videoHeight, 0, 0, src_canvas.width, src_canvas.height);\n",
        "            if (send_num<1){\n",
        "                send_num += 1\n",
        "                const img = src_canvas.toDataURL('image/jpeg', quality);\n",
        "                const result = google.colab.kernel.invokeFunction('notebook.run', [img], {});\n",
        "                result.then(function(value) {\n",
        "                    parse = JSON.parse(JSON.stringify(value))[\"data\"]\n",
        "                    parse = JSON.parse(JSON.stringify(parse))[\"application/json\"]\n",
        "                    parse = JSON.parse(JSON.stringify(parse))[\"img_str\"]\n",
        "                    var image = new Image()\n",
        "                    image.src = parse;\n",
        "                    image.onload = function(){dst_canvasCtx.drawImage(image, 0, 0)}\n",
        "                    send_num -= 1\n",
        "                })\n",
        "            }\n",
        "            if (exit_flg){\n",
        "                requestAnimationFrame(_canvasUpdate);\n",
        "            }else{\n",
        "                stream.getVideoTracks()[0].stop();\n",
        "            }\n",
        "      };\n",
        "    }\n",
        "    ''')\n",
        "    display(js)\n",
        "    eval_js('useCam({})'.format(quality))\n",
        "\n",
        "# ウェブカメラの使用を開始\n",
        "use_cam()"
      ],
      "metadata": {
        "colab": {
          "base_uri": "https://localhost:8080/"
        },
        "outputId": "1f3b3065-9d73-4559-d417-01c86af3f55e",
        "id": "j3Rz0SLyW3Xc"
      },
      "execution_count": 3,
      "outputs": [
        {
          "output_type": "stream",
          "name": "stdout",
          "text": [
            "Writing app.py\n"
          ]
        }
      ]
    },
    {
      "cell_type": "code",
      "source": [
        "!ngrok authtoken 2a1EBSIaJWXov1REo9hZuErXTIY_352Vf6KGRyvZtMFD7Uxrn"
      ],
      "metadata": {
        "id": "dyRXBOG8Jbfi",
        "colab": {
          "base_uri": "https://localhost:8080/"
        },
        "outputId": "763a3d76-d47f-4302-fa67-9d0c127349e7"
      },
      "execution_count": 4,
      "outputs": [
        {
          "output_type": "stream",
          "name": "stdout",
          "text": [
            "Authtoken saved to configuration file: /root/.ngrok2/ngrok.yml\n"
          ]
        }
      ]
    },
    {
      "cell_type": "code",
      "source": [
        "!streamlit run app.py &>/dev/null&  # 「&>/dev/null&」により、出力を非表示にしてバックグランドジョブとして実行"
      ],
      "metadata": {
        "id": "hVvh6KHFJkpa"
      },
      "execution_count": 5,
      "outputs": []
    },
    {
      "cell_type": "code",
      "source": [
        "ngrok.kill()  # プロセスの修了\n",
        "url = ngrok.connect(port=\"8501\")  # 接続"
      ],
      "metadata": {
        "id": "Dz18ztahJouK",
        "colab": {
          "base_uri": "https://localhost:8080/"
        },
        "outputId": "7285c900-c5ec-4bd7-cf58-a3cf665a08cf"
      },
      "execution_count": 7,
      "outputs": [
        {
          "output_type": "stream",
          "name": "stderr",
          "text": [
            "INFO:pyngrok.process:ngrok process starting: 1506\n",
            "2024-01-15 04:24:19.043 INFO    pyngrok.process: ngrok process starting: 1506\n",
            "INFO:pyngrok.process:t=2024-01-15T04:24:19+0000 lvl=info msg=\"no configuration paths supplied\"\n",
            "\n",
            "2024-01-15 04:24:19.070 INFO    pyngrok.process: t=2024-01-15T04:24:19+0000 lvl=info msg=\"no configuration paths supplied\"\n",
            "\n",
            "INFO:pyngrok.process:t=2024-01-15T04:24:19+0000 lvl=info msg=\"using configuration at default config path\" path=/root/.ngrok2/ngrok.yml\n",
            "\n",
            "2024-01-15 04:24:19.074 INFO    pyngrok.process: t=2024-01-15T04:24:19+0000 lvl=info msg=\"using configuration at default config path\" path=/root/.ngrok2/ngrok.yml\n",
            "\n",
            "INFO:pyngrok.process:t=2024-01-15T04:24:19+0000 lvl=info msg=\"open config file\" path=/root/.ngrok2/ngrok.yml err=nil\n",
            "\n",
            "2024-01-15 04:24:19.082 INFO    pyngrok.process: t=2024-01-15T04:24:19+0000 lvl=info msg=\"open config file\" path=/root/.ngrok2/ngrok.yml err=nil\n",
            "\n",
            "INFO:pyngrok.process:t=2024-01-15T04:24:19+0000 lvl=info msg=\"starting web service\" obj=web addr=127.0.0.1:4040\n",
            "\n",
            "2024-01-15 04:24:19.088 INFO    pyngrok.process: t=2024-01-15T04:24:19+0000 lvl=info msg=\"starting web service\" obj=web addr=127.0.0.1:4040\n",
            "\n",
            "INFO:pyngrok.process:t=2024-01-15T04:24:19+0000 lvl=info msg=\"tunnel session started\" obj=tunnels.session\n",
            "\n",
            "2024-01-15 04:24:19.772 INFO    pyngrok.process: t=2024-01-15T04:24:19+0000 lvl=info msg=\"tunnel session started\" obj=tunnels.session\n",
            "\n",
            "INFO:pyngrok.process:t=2024-01-15T04:24:19+0000 lvl=info msg=\"client session established\" obj=csess id=c6ccd4a1d3a7\n",
            "\n",
            "2024-01-15 04:24:19.776 INFO    pyngrok.process: t=2024-01-15T04:24:19+0000 lvl=info msg=\"client session established\" obj=csess id=c6ccd4a1d3a7\n",
            "\n",
            "INFO:pyngrok.process:ngrok process has started: http://127.0.0.1:4040\n",
            "2024-01-15 04:24:19.782 INFO    pyngrok.process: ngrok process has started: http://127.0.0.1:4040\n",
            "INFO:pyngrok.process:t=2024-01-15T04:24:19+0000 lvl=info msg=start pg=/api/tunnels id=8deb59bd0c6f533b\n",
            "\n",
            "2024-01-15 04:24:19.795 INFO    pyngrok.process: t=2024-01-15T04:24:19+0000 lvl=info msg=start pg=/api/tunnels id=8deb59bd0c6f533b\n",
            "\n",
            "INFO:pyngrok.process:t=2024-01-15T04:24:19+0000 lvl=info msg=end pg=/api/tunnels id=8deb59bd0c6f533b status=200 dur=359.316µs\n",
            "\n",
            "2024-01-15 04:24:19.800 INFO    pyngrok.process: t=2024-01-15T04:24:19+0000 lvl=info msg=end pg=/api/tunnels id=8deb59bd0c6f533b status=200 dur=359.316µs\n",
            "\n",
            "INFO:pyngrok.process:t=2024-01-15T04:24:19+0000 lvl=info msg=start pg=/api/tunnels id=0f4f9b29f6d2e607\n",
            "\n",
            "2024-01-15 04:24:19.805 INFO    pyngrok.process: t=2024-01-15T04:24:19+0000 lvl=info msg=start pg=/api/tunnels id=0f4f9b29f6d2e607\n",
            "\n",
            "INFO:pyngrok.process:t=2024-01-15T04:24:19+0000 lvl=info msg=end pg=/api/tunnels id=0f4f9b29f6d2e607 status=200 dur=111.415µs\n",
            "\n",
            "2024-01-15 04:24:19.809 INFO    pyngrok.process: t=2024-01-15T04:24:19+0000 lvl=info msg=end pg=/api/tunnels id=0f4f9b29f6d2e607 status=200 dur=111.415µs\n",
            "\n",
            "INFO:pyngrok.process:t=2024-01-15T04:24:19+0000 lvl=info msg=start pg=/api/tunnels id=c09e0e1b196e1822\n",
            "\n",
            "2024-01-15 04:24:19.812 INFO    pyngrok.process: t=2024-01-15T04:24:19+0000 lvl=info msg=start pg=/api/tunnels id=c09e0e1b196e1822\n",
            "\n",
            "INFO:pyngrok.process:t=2024-01-15T04:24:20+0000 lvl=info msg=\"started tunnel\" obj=tunnels name=\"http-8501-f15eb542-49a4-47e6-a239-2b574953b029 (http)\" addr=http://localhost:8501 url=http://a8f7-34-143-168-249.ngrok-free.app\n",
            "\n",
            "2024-01-15 04:24:20.256 INFO    pyngrok.process: t=2024-01-15T04:24:20+0000 lvl=info msg=\"started tunnel\" obj=tunnels name=\"http-8501-f15eb542-49a4-47e6-a239-2b574953b029 (http)\" addr=http://localhost:8501 url=http://a8f7-34-143-168-249.ngrok-free.app\n",
            "\n",
            "INFO:pyngrok.process:t=2024-01-15T04:24:20+0000 lvl=info msg=\"started tunnel\" obj=tunnels name=http-8501-f15eb542-49a4-47e6-a239-2b574953b029 addr=http://localhost:8501 url=https://a8f7-34-143-168-249.ngrok-free.app\n",
            "\n",
            "2024-01-15 04:24:20.260 INFO    pyngrok.process: t=2024-01-15T04:24:20+0000 lvl=info msg=\"started tunnel\" obj=tunnels name=http-8501-f15eb542-49a4-47e6-a239-2b574953b029 addr=http://localhost:8501 url=https://a8f7-34-143-168-249.ngrok-free.app\n",
            "\n",
            "INFO:pyngrok.process:t=2024-01-15T04:24:20+0000 lvl=info msg=end pg=/api/tunnels id=c09e0e1b196e1822 status=201 dur=465.750197ms\n",
            "\n",
            "2024-01-15 04:24:20.262 INFO    pyngrok.process: t=2024-01-15T04:24:20+0000 lvl=info msg=end pg=/api/tunnels id=c09e0e1b196e1822 status=201 dur=465.750197ms\n",
            "\n"
          ]
        }
      ]
    },
    {
      "cell_type": "code",
      "source": [
        "print(url)"
      ],
      "metadata": {
        "colab": {
          "base_uri": "https://localhost:8080/"
        },
        "id": "fdo4NcHWDjD5",
        "outputId": "e22c1ca5-0b7f-4fd0-9ac7-f94fc494cb2e"
      },
      "execution_count": 8,
      "outputs": [
        {
          "output_type": "stream",
          "name": "stdout",
          "text": [
            "http://a8f7-34-143-168-249.ngrok-free.app\n"
          ]
        }
      ]
    },
    {
      "cell_type": "code",
      "source": [
        "from jupyter_dash import JupyterDash\n",
        "import dash_bootstrap_components as dbc\n",
        "\n",
        "class JupyterDashBootStrap(JupyterDash):\n",
        "  def __init__(self, _title, _port):\n",
        "    super().__init__(__name__, external_stylesheets=self.__external_stylesheets())\n",
        "    if _title is not None:\n",
        "      self.title = _title\n",
        "    self.__setlayout()\n",
        "    self.__run(_port)\n",
        "\n",
        "  def __setlayout(self):\n",
        "      self.layout = self.buildbaselayout()\n",
        "      self.registcalback(self)\n",
        "\n",
        "  def buildbaselayout(self):\n",
        "      return\n",
        "\n",
        "  def registcalback(self, app):\n",
        "      return\n",
        "\n",
        "  def __run(self, _port):\n",
        "    if _port is None:\n",
        "      self.run_server(mode=\"external\")\n",
        "    else:\n",
        "      self.run_server(mode=\"external\", port=_port )\n",
        "\n",
        "  def __external_stylesheets(self):\n",
        "    return [dbc.themes.BOOTSTRAP]"
      ],
      "metadata": {
        "colab": {
          "base_uri": "https://localhost:8080/",
          "height": 533
        },
        "id": "N5b10WO_ECPx",
        "outputId": "40a82b74-917e-4d2d-efef-71a6816cb0a1"
      },
      "execution_count": null,
      "outputs": [
        {
          "output_type": "error",
          "ename": "ImportError",
          "evalue": "ignored",
          "traceback": [
            "\u001b[0;31m---------------------------------------------------------------------------\u001b[0m",
            "\u001b[0;31mImportError\u001b[0m                               Traceback (most recent call last)",
            "\u001b[0;32m<ipython-input-3-98ddffde649d>\u001b[0m in \u001b[0;36m<cell line: 1>\u001b[0;34m()\u001b[0m\n\u001b[0;32m----> 1\u001b[0;31m \u001b[0;32mfrom\u001b[0m \u001b[0mjupyter_dash\u001b[0m \u001b[0;32mimport\u001b[0m \u001b[0mJupyterDash\u001b[0m\u001b[0;34m\u001b[0m\u001b[0;34m\u001b[0m\u001b[0m\n\u001b[0m\u001b[1;32m      2\u001b[0m \u001b[0;32mimport\u001b[0m \u001b[0mdash_bootstrap_components\u001b[0m \u001b[0;32mas\u001b[0m \u001b[0mdbc\u001b[0m\u001b[0;34m\u001b[0m\u001b[0;34m\u001b[0m\u001b[0m\n\u001b[1;32m      3\u001b[0m \u001b[0;34m\u001b[0m\u001b[0m\n\u001b[1;32m      4\u001b[0m \u001b[0;32mclass\u001b[0m \u001b[0mJupyterDashBootStrap\u001b[0m\u001b[0;34m(\u001b[0m\u001b[0mJupyterDash\u001b[0m\u001b[0;34m)\u001b[0m\u001b[0;34m:\u001b[0m\u001b[0;34m\u001b[0m\u001b[0;34m\u001b[0m\u001b[0m\n\u001b[1;32m      5\u001b[0m   \u001b[0;32mdef\u001b[0m \u001b[0m__init__\u001b[0m\u001b[0;34m(\u001b[0m\u001b[0mself\u001b[0m\u001b[0;34m,\u001b[0m \u001b[0m_title\u001b[0m\u001b[0;34m,\u001b[0m \u001b[0m_port\u001b[0m\u001b[0;34m)\u001b[0m\u001b[0;34m:\u001b[0m\u001b[0;34m\u001b[0m\u001b[0;34m\u001b[0m\u001b[0m\n",
            "\u001b[0;32m/usr/local/lib/python3.10/dist-packages/jupyter_dash/__init__.py\u001b[0m in \u001b[0;36m<module>\u001b[0;34m\u001b[0m\n\u001b[1;32m      1\u001b[0m \u001b[0;32mimport\u001b[0m \u001b[0mjupyter_dash\u001b[0m\u001b[0;34m.\u001b[0m\u001b[0mcomms\u001b[0m\u001b[0;34m\u001b[0m\u001b[0;34m\u001b[0m\u001b[0m\n\u001b[0;32m----> 2\u001b[0;31m \u001b[0;32mfrom\u001b[0m \u001b[0;34m.\u001b[0m\u001b[0mjupyter_app\u001b[0m \u001b[0;32mimport\u001b[0m \u001b[0mJupyterDash\u001b[0m\u001b[0;34m\u001b[0m\u001b[0;34m\u001b[0m\u001b[0m\n\u001b[0m\u001b[1;32m      3\u001b[0m \u001b[0;32mfrom\u001b[0m \u001b[0;34m.\u001b[0m\u001b[0mversion\u001b[0m \u001b[0;32mimport\u001b[0m \u001b[0m__version__\u001b[0m\u001b[0;34m\u001b[0m\u001b[0;34m\u001b[0m\u001b[0m\n\u001b[1;32m      4\u001b[0m \u001b[0;34m\u001b[0m\u001b[0m\n\u001b[1;32m      5\u001b[0m \u001b[0;32mdef\u001b[0m \u001b[0m_jupyter_nbextension_paths\u001b[0m\u001b[0;34m(\u001b[0m\u001b[0;34m)\u001b[0m\u001b[0;34m:\u001b[0m\u001b[0;34m\u001b[0m\u001b[0;34m\u001b[0m\u001b[0m\n",
            "\u001b[0;32m/usr/local/lib/python3.10/dist-packages/jupyter_dash/jupyter_app.py\u001b[0m in \u001b[0;36m<module>\u001b[0;34m\u001b[0m\n\u001b[0;32m----> 1\u001b[0;31m \u001b[0;32mimport\u001b[0m \u001b[0mdash\u001b[0m\u001b[0;34m\u001b[0m\u001b[0;34m\u001b[0m\u001b[0m\n\u001b[0m\u001b[1;32m      2\u001b[0m \u001b[0;32mimport\u001b[0m \u001b[0mos\u001b[0m\u001b[0;34m\u001b[0m\u001b[0;34m\u001b[0m\u001b[0m\n\u001b[1;32m      3\u001b[0m \u001b[0;32mimport\u001b[0m \u001b[0mrequests\u001b[0m\u001b[0;34m\u001b[0m\u001b[0;34m\u001b[0m\u001b[0m\n\u001b[1;32m      4\u001b[0m \u001b[0;32mfrom\u001b[0m \u001b[0mflask\u001b[0m \u001b[0;32mimport\u001b[0m \u001b[0mrequest\u001b[0m\u001b[0;34m\u001b[0m\u001b[0;34m\u001b[0m\u001b[0m\n\u001b[1;32m      5\u001b[0m \u001b[0;32mimport\u001b[0m \u001b[0mflask\u001b[0m\u001b[0;34m.\u001b[0m\u001b[0mcli\u001b[0m\u001b[0;34m\u001b[0m\u001b[0;34m\u001b[0m\u001b[0m\n",
            "\u001b[0;32m/usr/local/lib/python3.10/dist-packages/dash/__init__.py\u001b[0m in \u001b[0;36m<module>\u001b[0;34m\u001b[0m\n\u001b[1;32m      3\u001b[0m \u001b[0;31m# must come before any other imports.\u001b[0m\u001b[0;34m\u001b[0m\u001b[0;34m\u001b[0m\u001b[0m\n\u001b[1;32m      4\u001b[0m \u001b[0m__plotly_dash\u001b[0m \u001b[0;34m=\u001b[0m \u001b[0;32mTrue\u001b[0m\u001b[0;34m\u001b[0m\u001b[0;34m\u001b[0m\u001b[0m\n\u001b[0;32m----> 5\u001b[0;31m \u001b[0;32mfrom\u001b[0m \u001b[0;34m.\u001b[0m\u001b[0mdash\u001b[0m \u001b[0;32mimport\u001b[0m \u001b[0mDash\u001b[0m\u001b[0;34m,\u001b[0m \u001b[0mno_update\u001b[0m  \u001b[0;31m# noqa: F401,E402\u001b[0m\u001b[0;34m\u001b[0m\u001b[0;34m\u001b[0m\u001b[0m\n\u001b[0m\u001b[1;32m      6\u001b[0m from .dependencies import (  # noqa: F401,E402\n\u001b[1;32m      7\u001b[0m     \u001b[0mInput\u001b[0m\u001b[0;34m,\u001b[0m  \u001b[0;31m# noqa: F401,E402\u001b[0m\u001b[0;34m\u001b[0m\u001b[0;34m\u001b[0m\u001b[0m\n",
            "\u001b[0;32m/usr/local/lib/python3.10/dist-packages/dash/dash.py\u001b[0m in \u001b[0;36m<module>\u001b[0;34m\u001b[0m\n\u001b[1;32m     16\u001b[0m \u001b[0;32mimport\u001b[0m \u001b[0mflask\u001b[0m\u001b[0;34m\u001b[0m\u001b[0;34m\u001b[0m\u001b[0m\n\u001b[1;32m     17\u001b[0m \u001b[0;32mfrom\u001b[0m \u001b[0mflask_compress\u001b[0m \u001b[0;32mimport\u001b[0m \u001b[0mCompress\u001b[0m\u001b[0;34m\u001b[0m\u001b[0;34m\u001b[0m\u001b[0m\n\u001b[0;32m---> 18\u001b[0;31m \u001b[0;32mfrom\u001b[0m \u001b[0mwerkzeug\u001b[0m\u001b[0;34m.\u001b[0m\u001b[0mdebug\u001b[0m\u001b[0;34m.\u001b[0m\u001b[0mtbtools\u001b[0m \u001b[0;32mimport\u001b[0m \u001b[0mget_current_traceback\u001b[0m\u001b[0;34m\u001b[0m\u001b[0;34m\u001b[0m\u001b[0m\n\u001b[0m\u001b[1;32m     19\u001b[0m \u001b[0;32mfrom\u001b[0m \u001b[0mpkg_resources\u001b[0m \u001b[0;32mimport\u001b[0m \u001b[0mget_distribution\u001b[0m\u001b[0;34m,\u001b[0m \u001b[0mparse_version\u001b[0m\u001b[0;34m\u001b[0m\u001b[0;34m\u001b[0m\u001b[0m\n\u001b[1;32m     20\u001b[0m \u001b[0;32mfrom\u001b[0m \u001b[0mdash\u001b[0m \u001b[0;32mimport\u001b[0m \u001b[0mdcc\u001b[0m\u001b[0;34m\u001b[0m\u001b[0;34m\u001b[0m\u001b[0m\n",
            "\u001b[0;31mImportError\u001b[0m: cannot import name 'get_current_traceback' from 'werkzeug.debug.tbtools' (/usr/local/lib/python3.10/dist-packages/werkzeug/debug/tbtools.py)",
            "",
            "\u001b[0;31m---------------------------------------------------------------------------\u001b[0;32m\nNOTE: If your import is failing due to a missing package, you can\nmanually install dependencies using either !pip or !apt.\n\nTo view examples of installing some common dependencies, click the\n\"Open Examples\" button below.\n\u001b[0;31m---------------------------------------------------------------------------\u001b[0m\n"
          ],
          "errorDetails": {
            "actions": [
              {
                "action": "open_url",
                "actionText": "Open Examples",
                "url": "/notebooks/snippets/importing_libraries.ipynb"
              }
            ]
          }
        }
      ]
    }
  ]
}