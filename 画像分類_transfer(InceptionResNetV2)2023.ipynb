{
  "nbformat": 4,
  "nbformat_minor": 0,
  "metadata": {
    "colab": {
      "provenance": [],
      "gpuType": "T4",
      "include_colab_link": true
    },
    "kernelspec": {
      "name": "python3",
      "display_name": "Python 3"
    },
    "language_info": {
      "name": "python"
    },
    "accelerator": "GPU"
  },
  "cells": [
    {
      "cell_type": "markdown",
      "metadata": {
        "id": "view-in-github",
        "colab_type": "text"
      },
      "source": [
        "<a href=\"https://colab.research.google.com/github/curyumafu/sakana/blob/main/%E7%94%BB%E5%83%8F%E5%88%86%E9%A1%9E_transfer(InceptionResNetV2)2023.ipynb\" target=\"_parent\"><img src=\"https://colab.research.google.com/assets/colab-badge.svg\" alt=\"Open In Colab\"/></a>"
      ]
    },
    {
      "cell_type": "code",
      "execution_count": 7,
      "metadata": {
        "id": "Mcw_F_WoIacu"
      },
      "outputs": [],
      "source": [
        "!pip install streamlit==1.20.0 --quiet\n",
        "!pip install pyngrok==4.1.1 --quiet"
      ]
    },
    {
      "cell_type": "code",
      "execution_count": 8,
      "metadata": {
        "id": "Pbqipzj3nCy4"
      },
      "outputs": [],
      "source": [
        "import streamlit as st\n",
        "from pyngrok import ngrok"
      ]
    },
    {
      "cell_type": "code",
      "source": [
        "from google.colab import drive, output\n",
        "from google.colab.patches import cv2_imshow\n",
        "from IPython.display import display, Javascript\n",
        "from IPython.display import JSON as IPython_JSON\n",
        "from PIL import Image, ImageFont, ImageDraw\n",
        "import pickle\n",
        "import cv2\n",
        "import numpy as np\n",
        "from io import BytesIO\n",
        "import base64\n",
        "from keras.applications.inception_resnet_v2 import InceptionResNetV2, preprocess_input, decode_predictions\n",
        "from keras.preprocessing import image\n",
        "import tensorflow as tf\n",
        "\n",
        "\n",
        "\n",
        "drive.mount('/content/drive')\n",
        "%cd /content/drive/MyDrive/実験III_AI演習（ImageNet）2023\n",
        "\n",
        "\n",
        "\n",
        "# クラスラベルの読み込み\n",
        "classes = pickle.load(open('classes.sav', 'rb'))\n",
        "\n",
        "\n",
        "\n",
        "# クラスラベルをリストとして表示\n",
        "for i, class_label in enumerate(classes):\n",
        "    print(f\"Class {i}: {class_label}\")\n",
        "\n",
        "\n",
        "\n",
        "def img_add_msg(img, message):\n",
        "    \"\"\"画像にメッセージを追加する関数\"\"\"\n",
        "    font_path = 'ipaexg.ttf'\n",
        "    font_size = 20\n",
        "    font = ImageFont.truetype(font_path, font_size)  # フォントの定義\n",
        "    draw = ImageDraw.Draw(img)  # 描画用のDraw関数\n",
        "    draw.text((0, 30), message, font=font, fill=(255, 255, 255, 0))  # テキストを描画\n",
        "    return img\n",
        "\n",
        "\n",
        "\n",
        "# モデルの読み込み (SavedModel 形式)\n",
        "model = tf.keras.models.load_model('./cnn_saved_model')\n",
        "\n",
        "\n",
        "\n",
        "# コメントを返す関数（クラスごとに変更が必要です）\n",
        "def get_comment_for_class(class_label):\n",
        "    # ここで各クラスに対応したコメントを返すように実装してください\n",
        "    # 例: クラス 'cat' に対応したコメント\n",
        "    if class_label == 'アカザ':\n",
        "        return \"この魚はアカザという魚です。\\n胸びれと背びれの部分に\\n毒がある可能性があるため\\n気をつけてください\"\n",
        "    # 例: クラス 'dog' に対応したコメント\n",
        "    elif class_label == 'アユ':\n",
        "        return \"この魚はアユという魚です。\\n毒は特にありません\"\n",
        "    elif class_label == 'ウナギ':\n",
        "        return \"この魚はウナギという魚です。\\n体に毒はありませんが\\n新鮮な血には毒があるため気を付けてください\"\n",
        "    elif class_label == 'カジカ':\n",
        "        return \"この魚はカジカという魚です。\\n毒は特にありません\"\n",
        "    elif class_label == 'コイ':\n",
        "        return \"この魚はコイという魚です。\\nコイの胆嚢にはコイ毒が含まれている\\n可能性があるため調理する際は気をつけてください\"\n",
        "    elif class_label == 'サケ':\n",
        "        return \"この魚はサケという魚です。\\n毒は特にありません\"\n",
        "    elif class_label == 'サンフィッシュ':\n",
        "        return \"この魚はサンフィッシュという魚です。\\n毒は特にありません\"\n",
        "    elif class_label == 'ドジョウ':\n",
        "        return \"この魚はドジョウという魚です。\\n毒は特にありません\"\n",
        "    elif class_label == 'ナマズ':\n",
        "        return \"\"\n",
        "    elif class_label == 'ハゼ':\n",
        "        return \"これは9で釣れます\"\n",
        "    elif class_label == '背景':\n",
        "        return \"これは背景です\"\n",
        "    else:\n",
        "        return \"No specific comment for this class yet.\"\n",
        "\n",
        "\n",
        "\n",
        "def run(img_str):\n",
        "    \"\"\"画像処理と予測を行う関数\"\"\"\n",
        "    # 画像のデコード\n",
        "    decimg = base64.b64decode(img_str.split(',')[1], validate=True)\n",
        "    decimg = Image.open(BytesIO(decimg))\n",
        "    decimg = np.array(decimg, dtype=np.uint8)\n",
        "    decimg = cv2.cvtColor(decimg, cv2.COLOR_BGR2RGB)\n",
        "\n",
        "\n",
        "\n",
        "    # 画像のトリミングと前処理\n",
        "    trim_frame = decimg[:299, :299]\n",
        "    x = image.img_to_array(trim_frame)\n",
        "    x = np.expand_dims(x, axis=0)\n",
        "    x = preprocess_input(x)\n",
        "\n",
        "\n",
        "\n",
        "    # 予測\n",
        "    preds = model.predict(x, verbose=0)\n",
        "    prelabel = np.argmax(preds, axis=1)[0]\n",
        "    class_label = classes[prelabel]\n",
        "    confidence = preds[0][prelabel] * 100\n",
        "    message = f\"{class_label} {confidence:.2f}%\"\n",
        "\n",
        "\n",
        "\n",
        "    # クラスに対応したコメントを取得\n",
        "    comment = get_comment_for_class(class_label)\n",
        "\n",
        "\n",
        "\n",
        "    # 画像にメッセージとコメントを追加\n",
        "    img = Image.fromarray(trim_frame)\n",
        "    img = img_add_msg(img, f\"{message}\\n{comment}\")\n",
        "    img = np.array(img)\n",
        "\n",
        "\n",
        "\n",
        "    # 画像をエンコードして送信\n",
        "    _, encimg = cv2.imencode(\".jpg\", img, [int(cv2.IMWRITE_JPEG_QUALITY), 80])\n",
        "    img_str = encimg.tobytes()\n",
        "    img_str = \"data:image/jpeg;base64,\" + base64.b64encode(img_str).decode('utf-8')\n",
        "    return IPython_JSON({'img_str': img_str})\n",
        "\n",
        "\n",
        "\n",
        "# コールバックの登録\n",
        "output.register_callback('notebook.run', run)\n",
        "\n",
        "\n",
        "\n",
        "from google.colab.output import eval_js\n",
        "\n",
        "\n",
        "\n",
        "def use_cam(quality=0.8):\n",
        "    \"\"\"ウェブカメラを使用して画像を取得し、処理を行う関数\"\"\"\n",
        "    js = Javascript('''\n",
        "    async function useCam(quality) {\n",
        "      const div = document.createElement('div');\n",
        "      document.body.appendChild(div);\n",
        "      //video element\n",
        "      const video = document.createElement('video');\n",
        "      video.style.display = 'None';\n",
        "      const stream = await navigator.mediaDevices.getUserMedia({video: true});\n",
        "      div.appendChild(video);\n",
        "      video.srcObject = stream;\n",
        "      await video.play();\n",
        "\n",
        "      //canvas for display. frame rate is depending on display size and jpeg quality.\n",
        "      display_size = 299\n",
        "      const src_canvas = document.createElement('canvas');\n",
        "      src_canvas.width  = display_size;\n",
        "      src_canvas.height = display_size;;\n",
        "      const src_canvasCtx = src_canvas.getContext('2d');\n",
        "      src_canvasCtx.translate(src_canvas.width, 0);\n",
        "      src_canvasCtx.scale(-1, 1);\n",
        "      div.appendChild(src_canvas);\n",
        "\n",
        "      const dst_canvas = document.createElement('canvas');\n",
        "      dst_canvas.width  = src_canvas.width;\n",
        "      dst_canvas.height = src_canvas.height;\n",
        "      const dst_canvasCtx = dst_canvas.getContext('2d');\n",
        "      div.appendChild(dst_canvas);\n",
        "\n",
        "      //exit button\n",
        "      const btn_div = document.createElement('div');\n",
        "      document.body.appendChild(btn_div);\n",
        "      const exit_btn = document.createElement('button');\n",
        "      exit_btn.textContent = 'Exit';\n",
        "      var exit_flg = true\n",
        "      exit_btn.onclick = function() {exit_flg = false};\n",
        "      btn_div.appendChild(exit_btn);\n",
        "\n",
        "      // Resize the output to fit the video element.\n",
        "      google.colab.output.setIframeHeight(document.documentElement.scrollHeight, true);\n",
        "\n",
        "      var send_num = 0\n",
        "      // loop\n",
        "      _canvasUpdate();\n",
        "      async function _canvasUpdate() {\n",
        "            src_canvasCtx.drawImage(video, 0, 0, video.videoWidth, video.videoHeight, 0, 0, src_canvas.width, src_canvas.height);\n",
        "            if (send_num<1){\n",
        "                send_num += 1\n",
        "                const img = src_canvas.toDataURL('image/jpeg', quality);\n",
        "                const result = google.colab.kernel.invokeFunction('notebook.run', [img], {});\n",
        "                result.then(function(value) {\n",
        "                    parse = JSON.parse(JSON.stringify(value))[\"data\"]\n",
        "                    parse = JSON.parse(JSON.stringify(parse))[\"application/json\"]\n",
        "                    parse = JSON.parse(JSON.stringify(parse))[\"img_str\"]\n",
        "                    var image = new Image()\n",
        "                    image.src = parse;\n",
        "                    image.onload = function(){dst_canvasCtx.drawImage(image, 0, 0)}\n",
        "                    send_num -= 1\n",
        "                })\n",
        "            }\n",
        "            if (exit_flg){\n",
        "                requestAnimationFrame(_canvasUpdate);\n",
        "            }else{\n",
        "                stream.getVideoTracks()[0].stop();\n",
        "            }\n",
        "      };\n",
        "    }\n",
        "    ''')\n",
        "    display(js)\n",
        "    eval_js('useCam({})'.format(quality))\n",
        "\n",
        "# ウェブカメラの使用を開始\n",
        "use_cam()"
      ],
      "metadata": {
        "id": "HHeXGiI2MGP4",
        "outputId": "f1483f5b-81f0-4b78-a555-6cb8ad91128d",
        "colab": {
          "base_uri": "https://localhost:8080/",
          "height": 567
        }
      },
      "execution_count": 9,
      "outputs": [
        {
          "output_type": "stream",
          "name": "stdout",
          "text": [
            "Mounted at /content/drive\n",
            "/content/drive/MyDrive/実験III_AI演習（ImageNet）2023\n",
            "Class 0: アカザ\n",
            "Class 1: アユ\n",
            "Class 2: ウナギ\n",
            "Class 3: カジカ\n",
            "Class 4: コイ\n",
            "Class 5: サケ\n",
            "Class 6: サンフィッシュ\n",
            "Class 7: ドジョウ\n",
            "Class 8: ナマズ\n",
            "Class 9: ハゼ\n",
            "Class 10: 背景\n"
          ]
        },
        {
          "output_type": "display_data",
          "data": {
            "text/plain": [
              "<IPython.core.display.Javascript object>"
            ],
            "application/javascript": [
              "\n",
              "    async function useCam(quality) {\n",
              "      const div = document.createElement('div');\n",
              "      document.body.appendChild(div);\n",
              "      //video element\n",
              "      const video = document.createElement('video');\n",
              "      video.style.display = 'None';\n",
              "      const stream = await navigator.mediaDevices.getUserMedia({video: true});\n",
              "      div.appendChild(video);\n",
              "      video.srcObject = stream;\n",
              "      await video.play();\n",
              "\n",
              "      //canvas for display. frame rate is depending on display size and jpeg quality.\n",
              "      display_size = 299\n",
              "      const src_canvas = document.createElement('canvas');\n",
              "      src_canvas.width  = display_size;\n",
              "      src_canvas.height = display_size;;\n",
              "      const src_canvasCtx = src_canvas.getContext('2d');\n",
              "      src_canvasCtx.translate(src_canvas.width, 0);\n",
              "      src_canvasCtx.scale(-1, 1);\n",
              "      div.appendChild(src_canvas);\n",
              "\n",
              "      const dst_canvas = document.createElement('canvas');\n",
              "      dst_canvas.width  = src_canvas.width;\n",
              "      dst_canvas.height = src_canvas.height;\n",
              "      const dst_canvasCtx = dst_canvas.getContext('2d');\n",
              "      div.appendChild(dst_canvas);\n",
              "\n",
              "      //exit button\n",
              "      const btn_div = document.createElement('div');\n",
              "      document.body.appendChild(btn_div);\n",
              "      const exit_btn = document.createElement('button');\n",
              "      exit_btn.textContent = 'Exit';\n",
              "      var exit_flg = true\n",
              "      exit_btn.onclick = function() {exit_flg = false};\n",
              "      btn_div.appendChild(exit_btn);\n",
              "\n",
              "      // Resize the output to fit the video element.\n",
              "      google.colab.output.setIframeHeight(document.documentElement.scrollHeight, true);\n",
              "\n",
              "      var send_num = 0\n",
              "      // loop\n",
              "      _canvasUpdate();\n",
              "      async function _canvasUpdate() {\n",
              "            src_canvasCtx.drawImage(video, 0, 0, video.videoWidth, video.videoHeight, 0, 0, src_canvas.width, src_canvas.height);\n",
              "            if (send_num<1){\n",
              "                send_num += 1\n",
              "                const img = src_canvas.toDataURL('image/jpeg', quality);\n",
              "                const result = google.colab.kernel.invokeFunction('notebook.run', [img], {});\n",
              "                result.then(function(value) {\n",
              "                    parse = JSON.parse(JSON.stringify(value))[\"data\"]\n",
              "                    parse = JSON.parse(JSON.stringify(parse))[\"application/json\"]\n",
              "                    parse = JSON.parse(JSON.stringify(parse))[\"img_str\"]\n",
              "                    var image = new Image()\n",
              "                    image.src = parse;\n",
              "                    image.onload = function(){dst_canvasCtx.drawImage(image, 0, 0)}\n",
              "                    send_num -= 1\n",
              "                })\n",
              "            }\n",
              "            if (exit_flg){\n",
              "                requestAnimationFrame(_canvasUpdate);\n",
              "            }else{\n",
              "                stream.getVideoTracks()[0].stop();\n",
              "            }\n",
              "      };\n",
              "    }\n",
              "    "
            ]
          },
          "metadata": {}
        }
      ]
    },
    {
      "cell_type": "code",
      "source": [
        "!ngrok authtoken 2a1EBSIaJWXov1REo9hZuErXTIY_352Vf6KGRyvZtMFD7Uxrn"
      ],
      "metadata": {
        "id": "dyRXBOG8Jbfi",
        "outputId": "8ba4ca72-36a0-40d1-941c-9de27def96a4",
        "colab": {
          "base_uri": "https://localhost:8080/"
        }
      },
      "execution_count": 10,
      "outputs": [
        {
          "output_type": "stream",
          "name": "stdout",
          "text": [
            "Authtoken saved to configuration file: /root/.ngrok2/ngrok.yml\n"
          ]
        }
      ]
    },
    {
      "cell_type": "code",
      "source": [
        "!streamlit run app.py &>/dev/null&  # 「&>/dev/null&」により、出力を非表示にしてバックグランドジョブとして実行"
      ],
      "metadata": {
        "id": "hVvh6KHFJkpa"
      },
      "execution_count": 11,
      "outputs": []
    },
    {
      "cell_type": "code",
      "source": [
        "ngrok.kill()  # プロセスの修了\n",
        "url = ngrok.connect(port=\"8501\")  # 接続"
      ],
      "metadata": {
        "id": "G2fC1S_JKMV8",
        "outputId": "7f1d8fc3-e1e4-445d-d9dd-26038e327670",
        "colab": {
          "base_uri": "https://localhost:8080/"
        }
      },
      "execution_count": 12,
      "outputs": [
        {
          "output_type": "stream",
          "name": "stderr",
          "text": [
            "INFO:pyngrok.process:ngrok process starting: 3798\n",
            "2023-12-25 04:19:54.647 INFO    pyngrok.process: ngrok process starting: 3798\n",
            "INFO:pyngrok.process:t=2023-12-25T04:19:54+0000 lvl=info msg=\"no configuration paths supplied\"\n",
            "\n",
            "2023-12-25 04:19:54.731 INFO    pyngrok.process: t=2023-12-25T04:19:54+0000 lvl=info msg=\"no configuration paths supplied\"\n",
            "\n",
            "INFO:pyngrok.process:t=2023-12-25T04:19:54+0000 lvl=info msg=\"using configuration at default config path\" path=/root/.ngrok2/ngrok.yml\n",
            "\n",
            "2023-12-25 04:19:54.735 INFO    pyngrok.process: t=2023-12-25T04:19:54+0000 lvl=info msg=\"using configuration at default config path\" path=/root/.ngrok2/ngrok.yml\n",
            "\n",
            "INFO:pyngrok.process:t=2023-12-25T04:19:54+0000 lvl=info msg=\"open config file\" path=/root/.ngrok2/ngrok.yml err=nil\n",
            "\n",
            "2023-12-25 04:19:54.754 INFO    pyngrok.process: t=2023-12-25T04:19:54+0000 lvl=info msg=\"open config file\" path=/root/.ngrok2/ngrok.yml err=nil\n",
            "\n",
            "INFO:pyngrok.process:t=2023-12-25T04:19:54+0000 lvl=info msg=\"starting web service\" obj=web addr=127.0.0.1:4040\n",
            "\n",
            "2023-12-25 04:19:54.765 INFO    pyngrok.process: t=2023-12-25T04:19:54+0000 lvl=info msg=\"starting web service\" obj=web addr=127.0.0.1:4040\n",
            "\n",
            "INFO:pyngrok.process:t=2023-12-25T04:19:54+0000 lvl=info msg=\"tunnel session started\" obj=tunnels.session\n",
            "\n",
            "2023-12-25 04:19:54.969 INFO    pyngrok.process: t=2023-12-25T04:19:54+0000 lvl=info msg=\"tunnel session started\" obj=tunnels.session\n",
            "\n",
            "INFO:pyngrok.process:t=2023-12-25T04:19:54+0000 lvl=info msg=\"client session established\" obj=csess id=a2a9ee98d94c\n",
            "\n",
            "2023-12-25 04:19:54.975 INFO    pyngrok.process: t=2023-12-25T04:19:54+0000 lvl=info msg=\"client session established\" obj=csess id=a2a9ee98d94c\n",
            "\n",
            "INFO:pyngrok.process:ngrok process has started: http://127.0.0.1:4040\n",
            "2023-12-25 04:19:54.984 INFO    pyngrok.process: ngrok process has started: http://127.0.0.1:4040\n",
            "INFO:pyngrok.process:t=2023-12-25T04:19:54+0000 lvl=info msg=start pg=/api/tunnels id=3db2c7faf3cdda21\n",
            "\n",
            "2023-12-25 04:19:54.997 INFO    pyngrok.process: t=2023-12-25T04:19:54+0000 lvl=info msg=start pg=/api/tunnels id=3db2c7faf3cdda21\n",
            "\n",
            "INFO:pyngrok.process:t=2023-12-25T04:19:54+0000 lvl=info msg=end pg=/api/tunnels id=3db2c7faf3cdda21 status=200 dur=386.729µs\n",
            "\n",
            "2023-12-25 04:19:55.011 INFO    pyngrok.process: t=2023-12-25T04:19:54+0000 lvl=info msg=end pg=/api/tunnels id=3db2c7faf3cdda21 status=200 dur=386.729µs\n",
            "\n",
            "INFO:pyngrok.process:t=2023-12-25T04:19:54+0000 lvl=info msg=start pg=/api/tunnels id=bc9cf4b5eac7176a\n",
            "\n",
            "2023-12-25 04:19:55.019 INFO    pyngrok.process: t=2023-12-25T04:19:54+0000 lvl=info msg=start pg=/api/tunnels id=bc9cf4b5eac7176a\n",
            "\n",
            "INFO:pyngrok.process:t=2023-12-25T04:19:54+0000 lvl=info msg=end pg=/api/tunnels id=bc9cf4b5eac7176a status=200 dur=94.227µs\n",
            "\n",
            "2023-12-25 04:19:55.027 INFO    pyngrok.process: t=2023-12-25T04:19:54+0000 lvl=info msg=end pg=/api/tunnels id=bc9cf4b5eac7176a status=200 dur=94.227µs\n",
            "\n",
            "INFO:pyngrok.process:t=2023-12-25T04:19:54+0000 lvl=info msg=start pg=/api/tunnels id=5bc0397df5c5a729\n",
            "\n",
            "2023-12-25 04:19:55.034 INFO    pyngrok.process: t=2023-12-25T04:19:54+0000 lvl=info msg=start pg=/api/tunnels id=5bc0397df5c5a729\n",
            "\n",
            "INFO:pyngrok.process:t=2023-12-25T04:19:55+0000 lvl=info msg=\"started tunnel\" obj=tunnels name=\"http-8501-0f6921ca-634a-490a-9b91-aad756edc50c (http)\" addr=http://localhost:8501 url=http://cd3d-34-74-177-225.ngrok-free.app\n",
            "\n",
            "2023-12-25 04:19:55.082 INFO    pyngrok.process: t=2023-12-25T04:19:55+0000 lvl=info msg=\"started tunnel\" obj=tunnels name=\"http-8501-0f6921ca-634a-490a-9b91-aad756edc50c (http)\" addr=http://localhost:8501 url=http://cd3d-34-74-177-225.ngrok-free.app\n",
            "\n",
            "INFO:pyngrok.process:t=2023-12-25T04:19:55+0000 lvl=info msg=\"started tunnel\" obj=tunnels name=http-8501-0f6921ca-634a-490a-9b91-aad756edc50c addr=http://localhost:8501 url=https://cd3d-34-74-177-225.ngrok-free.app\n",
            "\n",
            "2023-12-25 04:19:55.087 INFO    pyngrok.process: t=2023-12-25T04:19:55+0000 lvl=info msg=\"started tunnel\" obj=tunnels name=http-8501-0f6921ca-634a-490a-9b91-aad756edc50c addr=http://localhost:8501 url=https://cd3d-34-74-177-225.ngrok-free.app\n",
            "\n",
            "INFO:pyngrok.process:t=2023-12-25T04:19:55+0000 lvl=info msg=end pg=/api/tunnels id=5bc0397df5c5a729 status=201 dur=81.55892ms\n",
            "\n"
          ]
        }
      ]
    },
    {
      "cell_type": "code",
      "source": [
        "print(url)"
      ],
      "metadata": {
        "colab": {
          "base_uri": "https://localhost:8080/"
        },
        "id": "fdo4NcHWDjD5",
        "outputId": "de9e6cc6-cce0-4e8b-b2da-12f7579eaf47"
      },
      "execution_count": 13,
      "outputs": [
        {
          "output_type": "stream",
          "name": "stdout",
          "text": [
            "http://cd3d-34-74-177-225.ngrok-free.app\n"
          ]
        },
        {
          "output_type": "stream",
          "name": "stderr",
          "text": [
            "2023-12-25 04:19:55.094 INFO    pyngrok.process: t=2023-12-25T04:19:55+0000 lvl=info msg=end pg=/api/tunnels id=5bc0397df5c5a729 status=201 dur=81.55892ms\n",
            "\n"
          ]
        }
      ]
    }
  ]
}