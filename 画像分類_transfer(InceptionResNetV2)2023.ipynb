{
  "nbformat": 4,
  "nbformat_minor": 0,
  "metadata": {
    "colab": {
      "provenance": [],
      "gpuType": "T4",
      "include_colab_link": true
    },
    "kernelspec": {
      "name": "python3",
      "display_name": "Python 3"
    },
    "language_info": {
      "name": "python"
    },
    "accelerator": "GPU"
  },
  "cells": [
    {
      "cell_type": "markdown",
      "metadata": {
        "id": "view-in-github",
        "colab_type": "text"
      },
      "source": [
        "<a href=\"https://colab.research.google.com/github/curyumafu/sakana/blob/main/%E7%94%BB%E5%83%8F%E5%88%86%E9%A1%9E_transfer(InceptionResNetV2)2023.ipynb\" target=\"_parent\"><img src=\"https://colab.research.google.com/assets/colab-badge.svg\" alt=\"Open In Colab\"/></a>"
      ]
    },
    {
      "cell_type": "code",
      "execution_count": null,
      "metadata": {
        "id": "Xi-4esUsRngB"
      },
      "outputs": [],
      "source": [
        "!pip install streamlit==1.20.0 --quiet\n",
        "!pip install pyngrok==4.1.1 --quiet"
      ]
    },
    {
      "cell_type": "code",
      "execution_count": null,
      "metadata": {
        "id": "iT_aq1jcRngE"
      },
      "outputs": [],
      "source": [
        "import streamlit as st\n",
        "from pyngrok import ngrok"
      ]
    },
    {
      "cell_type": "code",
      "source": [
        "%%writefile app.py\n",
        "from google.colab import drive, output\n",
        "from google.colab.patches import cv2_imshow\n",
        "from IPython.display import display, Javascript\n",
        "from IPython.display import JSON as IPython_JSON\n",
        "from PIL import Image, ImageFont, ImageDraw\n",
        "import pickle\n",
        "import cv2\n",
        "import numpy as np\n",
        "from io import BytesIO\n",
        "import base64\n",
        "from keras.applications.inception_resnet_v2 import InceptionResNetV2, preprocess_input, decode_predictions\n",
        "from keras.preprocessing import image\n",
        "import tensorflow as tf\n",
        "\n",
        "\n",
        "\n",
        "drive.mount('/content/drive')\n",
        "%cd /content/drive/MyDrive/実験III_AI演習（ImageNet）2023\n",
        "\n",
        "\n",
        "\n",
        "# クラスラベルの読み込み\n",
        "classes = pickle.load(open('classes.sav', 'rb'))\n",
        "\n",
        "\n",
        "\n",
        "# クラスラベルをリストとして表示\n",
        "for i, class_label in enumerate(classes):\n",
        "    print(f\"Class {i}: {class_label}\")\n",
        "\n",
        "\n",
        "\n",
        "def img_add_msg(img, message):\n",
        "    \"\"\"画像にメッセージを追加する関数\"\"\"\n",
        "    font_path = 'ipaexg.ttf'\n",
        "    font_size = 20\n",
        "    font = ImageFont.truetype(font_path, font_size)  # フォントの定義\n",
        "    draw = ImageDraw.Draw(img)  # 描画用のDraw関数\n",
        "    draw.text((0, 30), message, font=font, fill=(255, 255, 255, 0))  # テキストを描画\n",
        "    return img\n",
        "\n",
        "\n",
        "\n",
        "# モデルの読み込み (SavedModel 形式)\n",
        "model = tf.keras.models.load_model('./cnn_saved_model')\n",
        "\n",
        "\n",
        "\n",
        "# コメントを返す関数（クラスごとに変更が必要です）\n",
        "def get_comment_for_class(class_label):\n",
        "    # ここで各クラスに対応したコメントを返すように実装してください\n",
        "    # 例: クラス 'cat' に対応したコメント\n",
        "    if class_label == 'アカザ':\n",
        "        return \"この魚はアカザという魚です。\\n胸びれと背びれの部分に\\n毒がある可能性があるため\\n気をつけてください\"\n",
        "    # 例: クラス 'dog' に対応したコメント\n",
        "    elif class_label == 'アユ':\n",
        "        return \"この魚はアユという魚です。\\n毒は特にありません\"\n",
        "    elif class_label == 'ウナギ':\n",
        "        return \"この魚はウナギという魚です。\\n体に毒はありませんが\\n新鮮な血には毒があるため気を付けてください\"\n",
        "    elif class_label == 'カジカ':\n",
        "        return \"この魚はカジカという魚です。\\n毒は特にありません\"\n",
        "    elif class_label == 'コイ':\n",
        "        return \"この魚はコイという魚です。\\nコイの胆嚢にはコイ毒が含まれている\\n可能性があるため調理する際は気をつけてください\"\n",
        "    elif class_label == 'サケ':\n",
        "        return \"この魚はサケという魚です。\\n毒は特にありません\"\n",
        "    elif class_label == 'サンフィッシュ':\n",
        "        return \"この魚はサンフィッシュという魚です。\\n毒は特にありません\"\n",
        "    elif class_label == 'ドジョウ':\n",
        "        return \"この魚はドジョウという魚です。\\n毒は特にありません\"\n",
        "    elif class_label == 'ナマズ':\n",
        "        return \"\"\n",
        "    elif class_label == 'ハゼ':\n",
        "        return \"これは9で釣れます\"\n",
        "    elif class_label == '背景':\n",
        "        return \"これは背景です\"\n",
        "    else:\n",
        "        return \"No specific comment for this class yet.\"\n",
        "\n",
        "\n",
        "\n",
        "def run(img_str):\n",
        "    \"\"\"画像処理と予測を行う関数\"\"\"\n",
        "    # 画像のデコード\n",
        "    decimg = base64.b64decode(img_str.split(',')[1], validate=True)\n",
        "    decimg = Image.open(BytesIO(decimg))\n",
        "    decimg = np.array(decimg, dtype=np.uint8)\n",
        "    decimg = cv2.cvtColor(decimg, cv2.COLOR_BGR2RGB)\n",
        "\n",
        "\n",
        "\n",
        "    # 画像のトリミングと前処理\n",
        "    trim_frame = decimg[:299, :299]\n",
        "    x = image.img_to_array(trim_frame)\n",
        "    x = np.expand_dims(x, axis=0)\n",
        "    x = preprocess_input(x)\n",
        "\n",
        "\n",
        "\n",
        "    # 予測\n",
        "    preds = model.predict(x, verbose=0)\n",
        "    prelabel = np.argmax(preds, axis=1)[0]\n",
        "    class_label = classes[prelabel]\n",
        "    confidence = preds[0][prelabel] * 100\n",
        "    message = f\"{class_label} {confidence:.2f}%\"\n",
        "\n",
        "\n",
        "\n",
        "    # クラスに対応したコメントを取得\n",
        "    comment = get_comment_for_class(class_label)\n",
        "\n",
        "\n",
        "\n",
        "    # 画像にメッセージとコメントを追加\n",
        "    img = Image.fromarray(trim_frame)\n",
        "    img = img_add_msg(img, f\"{message}\\n{comment}\")\n",
        "    img = np.array(img)\n",
        "\n",
        "\n",
        "\n",
        "    # 画像をエンコードして送信\n",
        "    _, encimg = cv2.imencode(\".jpg\", img, [int(cv2.IMWRITE_JPEG_QUALITY), 80])\n",
        "    img_str = encimg.tobytes()\n",
        "    img_str = \"data:image/jpeg;base64,\" + base64.b64encode(img_str).decode('utf-8')\n",
        "    return IPython_JSON({'img_str': img_str})\n",
        "\n",
        "\n",
        "\n",
        "# コールバックの登録\n",
        "output.register_callback('notebook.run', run)\n",
        "\n",
        "\n",
        "\n",
        "from google.colab.output import eval_js\n",
        "\n",
        "\n",
        "\n",
        "def use_cam(quality=0.8):\n",
        "    \"\"\"ウェブカメラを使用して画像を取得し、処理を行う関数\"\"\"\n",
        "    js = Javascript('''\n",
        "    async function useCam(quality) {\n",
        "      const div = document.createElement('div');\n",
        "      document.body.appendChild(div);\n",
        "      //video element\n",
        "      const video = document.createElement('video');\n",
        "      video.style.display = 'None';\n",
        "      const stream = await navigator.mediaDevices.getUserMedia({video: true});\n",
        "      div.appendChild(video);\n",
        "      video.srcObject = stream;\n",
        "      await video.play();\n",
        "\n",
        "      //canvas for display. frame rate is depending on display size and jpeg quality.\n",
        "      display_size = 299\n",
        "      const src_canvas = document.createElement('canvas');\n",
        "      src_canvas.width  = display_size;\n",
        "      src_canvas.height = display_size;;\n",
        "      const src_canvasCtx = src_canvas.getContext('2d');\n",
        "      src_canvasCtx.translate(src_canvas.width, 0);\n",
        "      src_canvasCtx.scale(-1, 1);\n",
        "      div.appendChild(src_canvas);\n",
        "\n",
        "      const dst_canvas = document.createElement('canvas');\n",
        "      dst_canvas.width  = src_canvas.width;\n",
        "      dst_canvas.height = src_canvas.height;\n",
        "      const dst_canvasCtx = dst_canvas.getContext('2d');\n",
        "      div.appendChild(dst_canvas);\n",
        "\n",
        "      //exit button\n",
        "      const btn_div = document.createElement('div');\n",
        "      document.body.appendChild(btn_div);\n",
        "      const exit_btn = document.createElement('button');\n",
        "      exit_btn.textContent = 'Exit';\n",
        "      var exit_flg = true\n",
        "      exit_btn.onclick = function() {exit_flg = false};\n",
        "      btn_div.appendChild(exit_btn);\n",
        "\n",
        "      // Resize the output to fit the video element.\n",
        "      google.colab.output.setIframeHeight(document.documentElement.scrollHeight, true);\n",
        "\n",
        "      var send_num = 0\n",
        "      // loop\n",
        "      _canvasUpdate();\n",
        "      async function _canvasUpdate() {\n",
        "            src_canvasCtx.drawImage(video, 0, 0, video.videoWidth, video.videoHeight, 0, 0, src_canvas.width, src_canvas.height);\n",
        "            if (send_num<1){\n",
        "                send_num += 1\n",
        "                const img = src_canvas.toDataURL('image/jpeg', quality);\n",
        "                const result = google.colab.kernel.invokeFunction('notebook.run', [img], {});\n",
        "                result.then(function(value) {\n",
        "                    parse = JSON.parse(JSON.stringify(value))[\"data\"]\n",
        "                    parse = JSON.parse(JSON.stringify(parse))[\"application/json\"]\n",
        "                    parse = JSON.parse(JSON.stringify(parse))[\"img_str\"]\n",
        "                    var image = new Image()\n",
        "                    image.src = parse;\n",
        "                    image.onload = function(){dst_canvasCtx.drawImage(image, 0, 0)}\n",
        "                    send_num -= 1\n",
        "                })\n",
        "            }\n",
        "            if (exit_flg){\n",
        "                requestAnimationFrame(_canvasUpdate);\n",
        "            }else{\n",
        "                stream.getVideoTracks()[0].stop();\n",
        "            }\n",
        "      };\n",
        "    }\n",
        "    ''')\n",
        "    display(js)\n",
        "    eval_js('useCam({})'.format(quality))\n",
        "\n",
        "# ウェブカメラの使用を開始\n"
      ],
      "metadata": {
        "colab": {
          "base_uri": "https://localhost:8080/"
        },
        "outputId": "5b230e5f-829d-475c-db60-f745c57ba340",
        "id": "j3Rz0SLyW3Xc"
      },
      "execution_count": null,
      "outputs": [
        {
          "output_type": "stream",
          "name": "stdout",
          "text": [
            "Overwriting app.py\n"
          ]
        }
      ]
    },
    {
      "cell_type": "code",
      "source": [
        "!ngrok authtoken 2a1EBSIaJWXov1REo9hZuErXTIY_352Vf6KGRyvZtMFD7Uxrn"
      ],
      "metadata": {
        "colab": {
          "base_uri": "https://localhost:8080/"
        },
        "outputId": "1e9e2d81-3e69-4a3c-da9c-7e714662e23e",
        "id": "NbFpqJVxRngF"
      },
      "execution_count": null,
      "outputs": [
        {
          "output_type": "stream",
          "name": "stdout",
          "text": [
            "Authtoken saved to configuration file: /root/.ngrok2/ngrok.yml\n"
          ]
        }
      ]
    },
    {
      "cell_type": "code",
      "source": [
        "!streamlit run app.py &>/dev/null&  # 「&>/dev/null&」により、出力を非表示にしてバックグランドジョブとして実行"
      ],
      "metadata": {
        "id": "roW2_3EdRngF"
      },
      "execution_count": null,
      "outputs": []
    },
    {
      "cell_type": "code",
      "source": [
        "ngrok.kill()  # プロセスの修了\n",
        "url = ngrok.connect(port=\"8501\")  # 接続"
      ],
      "metadata": {
        "colab": {
          "base_uri": "https://localhost:8080/"
        },
        "outputId": "d3596262-5081-4d9a-b0df-202d01b00fd8",
        "id": "WFY_X_K3RngG"
      },
      "execution_count": null,
      "outputs": [
        {
          "output_type": "stream",
          "name": "stderr",
          "text": [
            "INFO:pyngrok.process:Killing ngrok process: 1450\n",
            "2024-01-22 03:47:49.296 INFO    pyngrok.process: Killing ngrok process: 1450\n",
            "INFO:pyngrok.process:ngrok process starting: 1702\n",
            "2024-01-22 03:47:49.307 INFO    pyngrok.process: ngrok process starting: 1702\n",
            "INFO:pyngrok.process:t=2024-01-22T03:47:49+0000 lvl=info msg=\"no configuration paths supplied\"\n",
            "\n",
            "2024-01-22 03:47:49.344 INFO    pyngrok.process: t=2024-01-22T03:47:49+0000 lvl=info msg=\"no configuration paths supplied\"\n",
            "\n",
            "INFO:pyngrok.process:t=2024-01-22T03:47:49+0000 lvl=info msg=\"using configuration at default config path\" path=/root/.ngrok2/ngrok.yml\n",
            "\n",
            "2024-01-22 03:47:49.348 INFO    pyngrok.process: t=2024-01-22T03:47:49+0000 lvl=info msg=\"using configuration at default config path\" path=/root/.ngrok2/ngrok.yml\n",
            "\n",
            "INFO:pyngrok.process:t=2024-01-22T03:47:49+0000 lvl=info msg=\"open config file\" path=/root/.ngrok2/ngrok.yml err=nil\n",
            "\n",
            "2024-01-22 03:47:49.356 INFO    pyngrok.process: t=2024-01-22T03:47:49+0000 lvl=info msg=\"open config file\" path=/root/.ngrok2/ngrok.yml err=nil\n",
            "\n",
            "INFO:pyngrok.process:t=2024-01-22T03:47:49+0000 lvl=info msg=\"starting web service\" obj=web addr=127.0.0.1:4040\n",
            "\n",
            "2024-01-22 03:47:49.362 INFO    pyngrok.process: t=2024-01-22T03:47:49+0000 lvl=info msg=\"starting web service\" obj=web addr=127.0.0.1:4040\n",
            "\n",
            "INFO:pyngrok.process:t=2024-01-22T03:47:49+0000 lvl=info msg=\"tunnel session started\" obj=tunnels.session\n",
            "\n",
            "2024-01-22 03:47:49.542 INFO    pyngrok.process: t=2024-01-22T03:47:49+0000 lvl=info msg=\"tunnel session started\" obj=tunnels.session\n",
            "\n",
            "INFO:pyngrok.process:t=2024-01-22T03:47:49+0000 lvl=info msg=\"client session established\" obj=csess id=e2f3e7099c85\n",
            "\n",
            "2024-01-22 03:47:49.546 INFO    pyngrok.process: t=2024-01-22T03:47:49+0000 lvl=info msg=\"client session established\" obj=csess id=e2f3e7099c85\n",
            "\n",
            "INFO:pyngrok.process:ngrok process has started: http://127.0.0.1:4040\n",
            "2024-01-22 03:47:49.562 INFO    pyngrok.process: ngrok process has started: http://127.0.0.1:4040\n",
            "INFO:pyngrok.process:t=2024-01-22T03:47:49+0000 lvl=info msg=start pg=/api/tunnels id=998a9bbfe045df3d\n",
            "\n",
            "2024-01-22 03:47:49.572 INFO    pyngrok.process: t=2024-01-22T03:47:49+0000 lvl=info msg=start pg=/api/tunnels id=998a9bbfe045df3d\n",
            "\n",
            "INFO:pyngrok.process:t=2024-01-22T03:47:49+0000 lvl=info msg=end pg=/api/tunnels id=998a9bbfe045df3d status=200 dur=467.097µs\n",
            "\n",
            "2024-01-22 03:47:49.580 INFO    pyngrok.process: t=2024-01-22T03:47:49+0000 lvl=info msg=end pg=/api/tunnels id=998a9bbfe045df3d status=200 dur=467.097µs\n",
            "\n",
            "INFO:pyngrok.process:t=2024-01-22T03:47:49+0000 lvl=info msg=start pg=/api/tunnels id=05d0ee55cd21491c\n",
            "\n",
            "2024-01-22 03:47:49.584 INFO    pyngrok.process: t=2024-01-22T03:47:49+0000 lvl=info msg=start pg=/api/tunnels id=05d0ee55cd21491c\n",
            "\n",
            "INFO:pyngrok.process:t=2024-01-22T03:47:49+0000 lvl=info msg=end pg=/api/tunnels id=05d0ee55cd21491c status=200 dur=119.898µs\n",
            "\n",
            "2024-01-22 03:47:49.588 INFO    pyngrok.process: t=2024-01-22T03:47:49+0000 lvl=info msg=end pg=/api/tunnels id=05d0ee55cd21491c status=200 dur=119.898µs\n",
            "\n",
            "INFO:pyngrok.process:t=2024-01-22T03:47:49+0000 lvl=info msg=start pg=/api/tunnels id=7985c122a67b08f2\n",
            "\n",
            "2024-01-22 03:47:49.592 INFO    pyngrok.process: t=2024-01-22T03:47:49+0000 lvl=info msg=start pg=/api/tunnels id=7985c122a67b08f2\n",
            "\n",
            "INFO:pyngrok.process:t=2024-01-22T03:47:49+0000 lvl=info msg=\"started tunnel\" obj=tunnels name=\"http-8501-933d8298-f80d-4e07-9e3e-88e358b65f5a (http)\" addr=http://localhost:8501 url=http://0dce-34-66-29-225.ngrok-free.app\n",
            "\n",
            "2024-01-22 03:47:49.658 INFO    pyngrok.process: t=2024-01-22T03:47:49+0000 lvl=info msg=\"started tunnel\" obj=tunnels name=\"http-8501-933d8298-f80d-4e07-9e3e-88e358b65f5a (http)\" addr=http://localhost:8501 url=http://0dce-34-66-29-225.ngrok-free.app\n",
            "\n",
            "INFO:pyngrok.process:t=2024-01-22T03:47:49+0000 lvl=info msg=\"started tunnel\" obj=tunnels name=http-8501-933d8298-f80d-4e07-9e3e-88e358b65f5a addr=http://localhost:8501 url=https://0dce-34-66-29-225.ngrok-free.app\n",
            "\n",
            "2024-01-22 03:47:49.664 INFO    pyngrok.process: t=2024-01-22T03:47:49+0000 lvl=info msg=\"started tunnel\" obj=tunnels name=http-8501-933d8298-f80d-4e07-9e3e-88e358b65f5a addr=http://localhost:8501 url=https://0dce-34-66-29-225.ngrok-free.app\n",
            "\n",
            "INFO:pyngrok.process:t=2024-01-22T03:47:49+0000 lvl=info msg=end pg=/api/tunnels id=7985c122a67b08f2 status=201 dur=77.423054ms\n",
            "\n",
            "2024-01-22 03:47:49.669 INFO    pyngrok.process: t=2024-01-22T03:47:49+0000 lvl=info msg=end pg=/api/tunnels id=7985c122a67b08f2 status=201 dur=77.423054ms\n",
            "\n"
          ]
        }
      ]
    },
    {
      "cell_type": "code",
      "source": [
        "print(url)"
      ],
      "metadata": {
        "colab": {
          "base_uri": "https://localhost:8080/"
        },
        "outputId": "975598e5-1520-48db-d3c3-8a28b19ef95f",
        "id": "Wk3pETGoRngG"
      },
      "execution_count": null,
      "outputs": [
        {
          "output_type": "stream",
          "name": "stdout",
          "text": [
            "http://0dce-34-66-29-225.ngrok-free.app\n"
          ]
        }
      ]
    }
  ]
}