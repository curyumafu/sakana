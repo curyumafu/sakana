{
  "nbformat": 4,
  "nbformat_minor": 0,
  "metadata": {
    "colab": {
      "provenance": [],
      "gpuType": "T4",
      "include_colab_link": true
    },
    "kernelspec": {
      "name": "python3",
      "display_name": "Python 3"
    },
    "language_info": {
      "name": "python"
    },
    "accelerator": "GPU"
  },
  "cells": [
    {
      "cell_type": "markdown",
      "metadata": {
        "id": "view-in-github",
        "colab_type": "text"
      },
      "source": [
        "<a href=\"https://colab.research.google.com/github/curyumafu/sakana/blob/main/%E7%94%BB%E5%83%8F%E5%88%86%E9%A1%9EInceptionResNetV2%E3%83%A9%E3%83%B3%E3%83%80%E3%83%A0%E5%88%9D%E6%9C%9F%E5%80%A42023.ipynb\" target=\"_parent\"><img src=\"https://colab.research.google.com/assets/colab-badge.svg\" alt=\"Open In Colab\"/></a>"
      ]
    },
    {
      "cell_type": "markdown",
      "source": [
        "セル１：GoogleDriveのマウントとディレクトリの変更"
      ],
      "metadata": {
        "id": "PvuWdzxwRNNV"
      }
    },
    {
      "cell_type": "code",
      "execution_count": null,
      "metadata": {
        "id": "HcWmWmbpeTxJ"
      },
      "outputs": [],
      "source": [
        "from google.colab import drive\n",
        "\n",
        "# Google Drive をマウント\n",
        "drive.mount('/content/drive')\n",
        "\n",
        "# 作業ディレクトリを変更\n",
        "%cd /content/drive/MyDrive/実験III_AI演習（ImageNet）2023\n"
      ]
    },
    {
      "cell_type": "markdown",
      "source": [
        "セル2：必要なライブラリのインポート"
      ],
      "metadata": {
        "id": "-ZkhQ8OgRdlG"
      }
    },
    {
      "cell_type": "code",
      "source": [
        "import os\n",
        "import cv2\n",
        "import numpy as np\n",
        "from sklearn.model_selection import train_test_split\n",
        "from keras.preprocessing.image import ImageDataGenerator\n",
        "import matplotlib.pyplot as plt\n",
        "from keras.applications.inception_resnet_v2 import InceptionResNetV2, preprocess_input, decode_predictions\n",
        "from keras.models import Sequential, load_model\n",
        "from keras.layers import Input, Flatten, Dense\n",
        "from tensorflow.keras.optimizers import Adam\n",
        "import pickle\n",
        "import shutil\n"
      ],
      "metadata": {
        "id": "jmUohkJGfnTs"
      },
      "execution_count": null,
      "outputs": []
    },
    {
      "cell_type": "markdown",
      "source": [
        "セル3：データセットの準備とクラス情報の取得"
      ],
      "metadata": {
        "id": "QTDcDGrpRmel"
      }
    },
    {
      "cell_type": "code",
      "source": [
        "# パス設定\n",
        "path = \"./dataset\"\n",
        "path_save = \"./savedata\"\n",
        "\n",
        "# ディレクトリからクラスを取得\n",
        "folders = os.listdir(path)\n",
        "classes = [f for f in folders if os.path.isdir(os.path.join(path, f))]\n",
        "n_classes = len(classes)\n",
        "\n",
        "# クラスラベルを表示\n",
        "for i, class_label in enumerate(classes):\n",
        "    print(f\"Class {i}: {class_label}\")"
      ],
      "metadata": {
        "id": "a98bYwRGguNz"
      },
      "execution_count": null,
      "outputs": []
    },
    {
      "cell_type": "markdown",
      "source": [
        "セル4：データジェネレータの設定"
      ],
      "metadata": {
        "id": "bfhatQ2CRuzQ"
      }
    },
    {
      "cell_type": "code",
      "source": [
        "# データジェネレータの設定\n",
        "batch_size = 8\n",
        "train_datagen = ImageDataGenerator(\n",
        "    preprocessing_function=preprocess_input,\n",
        "    #rotation_range=20,  # ランダムな回転\n",
        "    #width_shift_range=0.1,  # ランダムな水平シフト\n",
        "    #height_shift_range=0.1,  # ランダムな垂直シフト\n",
        "    #shear_range=10,  # シアー変換\n",
        "    #zoom_range=0.1,  # ランダムなズーム\n",
        "    #horizontal_flip=True,  # 水平方向へのランダムなフリップ\n",
        "    #vertical_flip=True,  # 垂直方向へのランダムなフリップ\n",
        "    validation_split=0.2  # 検証データの割合\n",
        ")\n"
      ],
      "metadata": {
        "id": "Yn2myTRCit-N"
      },
      "execution_count": null,
      "outputs": []
    },
    {
      "cell_type": "markdown",
      "source": [
        "セル5：データジェネレータのインスタンス化"
      ],
      "metadata": {
        "id": "ZMV4b40gR2gc"
      }
    },
    {
      "cell_type": "code",
      "source": [
        "# 訓練データと検証データのジェネレータを作成\n",
        "train_generator = train_datagen.flow_from_directory(\n",
        "    path, target_size=(299, 299), batch_size=batch_size,\n",
        "    class_mode='categorical', save_to_dir=path_save, save_format='jpeg',\n",
        "    subset='training'\n",
        ")\n",
        "validation_generator = train_datagen.flow_from_directory(\n",
        "    path, target_size=(299, 299), batch_size=batch_size,\n",
        "    class_mode='categorical', subset='validation'\n",
        ")\n",
        "print(train_generator.class_indices)\n",
        "# クラスラベルとインデックスの辞書を取得\n",
        "class_indices = train_generator.class_indices\n",
        "\n",
        "# インデックスに基づいてクラスラベルのリストを生成\n",
        "classes = [k for k, v in sorted(class_indices.items(), key=lambda item: item[1])]\n",
        "\n",
        "# クラスラベルのリストを表示\n",
        "for i, class_label in enumerate(classes):\n",
        "    print(f\"Class {i}: {class_label}\")\n"
      ],
      "metadata": {
        "id": "NI-gPjnui3XT"
      },
      "execution_count": null,
      "outputs": []
    },
    {
      "cell_type": "markdown",
      "source": [
        "セル6：モデルの構築とコンパイル"
      ],
      "metadata": {
        "id": "OrEUTkvHR-9S"
      }
    },
    {
      "cell_type": "code",
      "source": [
        "# モデルの構築\n",
        "input_tensor=Input(shape=(299,299,3))\n",
        "base_model=InceptionResNetV2(weights=None,input_tensor=input_tensor, include_top=False)\n",
        "n_layers_base_model = len(base_model.layers)\n",
        "\n",
        "# ベースモデルの層を凍結\n",
        "base_model.trainable = False\n",
        "\n",
        "# モデルの構築\n",
        "model = Sequential()\n",
        "model.add(base_model)\n",
        "model.add(Flatten())  # 一次元の配列に変換\n",
        "model.add(Dense(n_classes, activation='softmax'))\n",
        "\n",
        "# モデルのコンパイル\n",
        "model.compile(loss='categorical_crossentropy', optimizer=Adam(learning_rate=1e-4), metrics=['accuracy'])\n",
        "\n",
        "# モデルの概要の表示\n",
        "print(model.summary())\n",
        "\n"
      ],
      "metadata": {
        "id": "JWyW2BTqjydB"
      },
      "execution_count": null,
      "outputs": []
    },
    {
      "cell_type": "markdown",
      "source": [
        "セル7：モデルの訓練"
      ],
      "metadata": {
        "id": "5EoRmfJvSFwn"
      }
    },
    {
      "cell_type": "code",
      "source": [
        "# モデルの訓練\n",
        "history = model.fit_generator(\n",
        "    train_generator,\n",
        "    steps_per_epoch=train_generator.n // train_generator.batch_size,\n",
        "    epochs=10,\n",
        "    validation_data=validation_generator,\n",
        "    validation_steps=validation_generator.n // validation_generator.batch_size\n",
        ")\n"
      ],
      "metadata": {
        "id": "JDPySu5lyOAD"
      },
      "execution_count": null,
      "outputs": []
    },
    {
      "cell_type": "markdown",
      "source": [
        "セル8：訓練結果の表示"
      ],
      "metadata": {
        "id": "x-pD2VQHScyL"
      }
    },
    {
      "cell_type": "code",
      "source": [
        "# 訓練の履歴をプロット\n",
        "plt.figure()\n",
        "plt.plot(history.history[\"accuracy\"], label=\"Training Acc\")\n",
        "plt.plot(history.history[\"val_accuracy\"], label=\"Validation Acc\")\n",
        "plt.legend()\n",
        "\n",
        "plt.figure()\n",
        "plt.plot(history.history[\"loss\"], label=\"Training Loss\")\n",
        "plt.plot(history.history[\"val_loss\"], label=\"Validation Loss\")\n",
        "plt.legend()\n",
        "plt.show()\n"
      ],
      "metadata": {
        "id": "HOgqChYmrVth"
      },
      "execution_count": null,
      "outputs": []
    },
    {
      "cell_type": "code",
      "source": [
        "# クラスラベルのリストを表示\n",
        "for i, class_label in enumerate(classes):\n",
        "    print(f\"Class {i}: {class_label}\")"
      ],
      "metadata": {
        "id": "FcE-QpIrf9cv"
      },
      "execution_count": null,
      "outputs": []
    },
    {
      "cell_type": "markdown",
      "source": [
        "セル9：モデルとクラス情報の保存"
      ],
      "metadata": {
        "id": "5PQJt-ukSjkS"
      }
    },
    {
      "cell_type": "code",
      "source": [
        "# クラス情報とモデルを保存\n",
        "pickle.dump(classes, open('./classes.sav', 'wb'))\n",
        "model.save('./cnn_saved_model')\n",
        "\n",
        "# 保存した画像を削除\n",
        "shutil.rmtree(path_save)\n",
        "os.mkdir(path_save)\n",
        "# クラスラベルとインデックスの辞書を取得\n",
        "class_indices = train_generator.class_indices\n"
      ],
      "metadata": {
        "id": "Af0rBqTJzD4g"
      },
      "execution_count": null,
      "outputs": []
    },
    {
      "cell_type": "markdown",
      "source": [
        "セル10：モデルとクラス情報の読み込み"
      ],
      "metadata": {
        "id": "L9R_HCFNS3uo"
      }
    },
    {
      "cell_type": "code",
      "source": [
        "# 保存したモデルとクラス情報を読み込む\n",
        "import tensorflow as tf\n",
        "# SavedModel 形式でモデルを読み込む\n",
        "model = tf.keras.models.load_model('./cnn_saved_model')\n",
        "classes = pickle.load(open('./classes.sav', 'rb'))\n",
        "for i, class_label in enumerate(classes):\n",
        "    print(f\"Class {i}: {class_label}\")"
      ],
      "metadata": {
        "id": "EEHqYSN9WB-w"
      },
      "execution_count": null,
      "outputs": []
    },
    {
      "cell_type": "markdown",
      "source": [
        "セル11：画像の読み込みと前処理（1枚目）"
      ],
      "metadata": {
        "id": "q_wPmRxHTERr"
      }
    },
    {
      "cell_type": "code",
      "source": [
        "# 1枚目の画像を読み込み、前処理を行う\n",
        "img = cv2.imread('back.jpg')\n",
        "img = cv2.resize(img, dsize=(299, 299))\n",
        "img = np.array(img)\n",
        "img = np.expand_dims(img, axis=0)\n",
        "img = preprocess_input(img)\n"
      ],
      "metadata": {
        "id": "b0lFo7GQfVxx"
      },
      "execution_count": null,
      "outputs": []
    },
    {
      "cell_type": "markdown",
      "source": [
        "セル12：モデルによる予測と結果の表示（1枚目）"
      ],
      "metadata": {
        "id": "slB12_GrTMsA"
      }
    },
    {
      "cell_type": "code",
      "source": [
        "# 1枚目の画像に対する予測を行い、結果を表示する\n",
        "result = model.predict(img)\n",
        "np.set_printoptions(precision=3, suppress=True)\n",
        "print(result * 100)  # 結果をパーセント表示\n",
        "pred = result.argmax()\n",
        "print(f\"Predicted class: {classes[pred]}\")\n"
      ],
      "metadata": {
        "id": "f1AabVtgNvJ3"
      },
      "execution_count": null,
      "outputs": []
    },
    {
      "cell_type": "markdown",
      "source": [
        "セル13：画像の読み込みと前処理（2枚目）"
      ],
      "metadata": {
        "id": "_eDk9TLUTS7P"
      }
    },
    {
      "cell_type": "code",
      "source": [
        "# 2枚目の画像を読み込み、前処理を行う\n",
        "img = cv2.imread('stick.jpg')\n",
        "img = cv2.resize(img, dsize=(299, 299))\n",
        "img = np.array(img)\n",
        "img = np.expand_dims(img, axis=0)\n",
        "img = preprocess_input(img)\n",
        "\n"
      ],
      "metadata": {
        "id": "MoSjo15FwwRb"
      },
      "execution_count": null,
      "outputs": []
    },
    {
      "cell_type": "markdown",
      "source": [
        "セル14：モデルによる予測と結果の表示（2枚目）"
      ],
      "metadata": {
        "id": "HiM10fQVTb_O"
      }
    },
    {
      "cell_type": "code",
      "source": [
        "# 2枚目の画像に対する予測を行い、結果を表示する\n",
        "result = model.predict(img)\n",
        "np.set_printoptions(precision=3, suppress=True)\n",
        "print(result * 100)  # 結果をパーセント表示\n",
        "pred = result.argmax()\n",
        "print(f\"Predicted class: {classes[pred]}\")\n"
      ],
      "metadata": {
        "id": "DazVC13bOnQy"
      },
      "execution_count": null,
      "outputs": []
    }
  ]
}