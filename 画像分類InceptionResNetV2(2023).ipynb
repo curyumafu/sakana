{
  "cells": [
    {
      "cell_type": "markdown",
      "metadata": {
        "id": "view-in-github",
        "colab_type": "text"
      },
      "source": [
        "<a href=\"https://colab.research.google.com/github/curyumafu/sakana/blob/main/%E7%94%BB%E5%83%8F%E5%88%86%E9%A1%9EInceptionResNetV2(2023).ipynb\" target=\"_parent\"><img src=\"https://colab.research.google.com/assets/colab-badge.svg\" alt=\"Open In Colab\"/></a>"
      ]
    },
    {
      "cell_type": "markdown",
      "metadata": {
        "id": "PvuWdzxwRNNV"
      },
      "source": [
        "セル１：GoogleDriveのマウントとディレクトリの変更"
      ]
    },
    {
      "cell_type": "code",
      "execution_count": null,
      "metadata": {
        "colab": {
          "base_uri": "https://localhost:8080/"
        },
        "id": "HcWmWmbpeTxJ",
        "outputId": "6e86c252-8161-40dd-ce23-d375daf4f915"
      },
      "outputs": [
        {
          "name": "stdout",
          "output_type": "stream",
          "text": [
            "Mounted at /content/drive\n",
            "/content/drive/MyDrive/実験III_AI演習（ImageNet）2023\n"
          ]
        }
      ],
      "source": [
        "from google.colab import drive\n",
        "\n",
        "# Google Drive をマウント\n",
        "drive.mount('/content/drive')\n",
        "\n",
        "# 作業ディレクトリを変更\n",
        "%cd /content/drive/MyDrive/実験III_AI演習（ImageNet）2023\n"
      ]
    },
    {
      "cell_type": "markdown",
      "metadata": {
        "id": "-ZkhQ8OgRdlG"
      },
      "source": [
        "セル2：必要なライブラリのインポート"
      ]
    },
    {
      "cell_type": "code",
      "execution_count": null,
      "metadata": {
        "id": "jmUohkJGfnTs"
      },
      "outputs": [],
      "source": [
        "import os\n",
        "import cv2\n",
        "import numpy as np\n",
        "from sklearn.model_selection import train_test_split\n",
        "from keras.preprocessing.image import ImageDataGenerator\n",
        "import matplotlib.pyplot as plt\n",
        "from keras.applications.inception_resnet_v2 import InceptionResNetV2, preprocess_input, decode_predictions\n",
        "from keras.models import Sequential, load_model\n",
        "from keras.layers import Input, Flatten, Dense\n",
        "from tensorflow.keras.optimizers import Adam\n",
        "import pickle\n",
        "import shutil\n"
      ]
    },
    {
      "cell_type": "markdown",
      "metadata": {
        "id": "QTDcDGrpRmel"
      },
      "source": [
        "セル3：データセットの準備とクラス情報の取得"
      ]
    },
    {
      "cell_type": "code",
      "execution_count": null,
      "metadata": {
        "colab": {
          "base_uri": "https://localhost:8080/"
        },
        "id": "a98bYwRGguNz",
        "outputId": "219ff334-96e7-4ecc-b248-9a71f2d6c1a2"
      },
      "outputs": [
        {
          "name": "stdout",
          "output_type": "stream",
          "text": [
            "Class 0: ウナギ\n",
            "Class 1: サンフィッシュ\n",
            "Class 2: サケ\n",
            "Class 3: ナマズ\n",
            "Class 4: コイ\n",
            "Class 5: カジカ\n",
            "Class 6: 背景\n",
            "Class 7: ドジョウ\n",
            "Class 8: アユ\n",
            "Class 9: アカザ\n",
            "Class 10: ハゼ\n"
          ]
        }
      ],
      "source": [
        "# パス設定\n",
        "path = \"./dataset\"\n",
        "path_save = \"./savedata\"\n",
        "\n",
        "# ディレクトリからクラスを取得\n",
        "folders = os.listdir(path)\n",
        "classes = [f for f in folders if os.path.isdir(os.path.join(path, f))]\n",
        "n_classes = len(classes)\n",
        "\n",
        "# クラスラベルを表示\n",
        "for i, class_label in enumerate(classes):\n",
        "    print(f\"Class {i}: {class_label}\")"
      ]
    },
    {
      "cell_type": "markdown",
      "metadata": {
        "id": "bfhatQ2CRuzQ"
      },
      "source": [
        "セル4：データジェネレータの設定"
      ]
    },
    {
      "cell_type": "code",
      "execution_count": null,
      "metadata": {
        "id": "Yn2myTRCit-N"
      },
      "outputs": [],
      "source": [
        "# データジェネレータの設定\n",
        "batch_size = 8\n",
        "train_datagen = ImageDataGenerator(\n",
        "    preprocessing_function=preprocess_input,\n",
        "    #rotation_range=20,  # ランダムな回転\n",
        "    #width_shift_range=0.1,  # ランダムな水平シフト\n",
        "    #height_shift_range=0.1,  # ランダムな垂直シフト\n",
        "    #shear_range=10,  # シアー変換\n",
        "    #zoom_range=0.1,  # ランダムなズーム\n",
        "    #horizontal_flip=True,  # 水平方向へのランダムなフリップ\n",
        "    #vertical_flip=True,  # 垂直方向へのランダムなフリップ\n",
        "    validation_split=0.2  # 検証データの割合\n",
        ")\n"
      ]
    },
    {
      "cell_type": "markdown",
      "metadata": {
        "id": "ZMV4b40gR2gc"
      },
      "source": [
        "セル5：データジェネレータのインスタンス化"
      ]
    },
    {
      "cell_type": "code",
      "execution_count": null,
      "metadata": {
        "colab": {
          "base_uri": "https://localhost:8080/"
        },
        "id": "NI-gPjnui3XT",
        "outputId": "316c5c9f-7375-4b55-c0d2-691d160e6788"
      },
      "outputs": [
        {
          "name": "stdout",
          "output_type": "stream",
          "text": [
            "Found 418 images belonging to 11 classes.\n",
            "Found 101 images belonging to 11 classes.\n",
            "Class 0: アカザ\n",
            "Class 1: アユ\n",
            "Class 2: ウナギ\n",
            "Class 3: カジカ\n",
            "Class 4: コイ\n",
            "Class 5: サケ\n",
            "Class 6: サンフィッシュ\n",
            "Class 7: ドジョウ\n",
            "Class 8: ナマズ\n",
            "Class 9: ハゼ\n",
            "Class 10: 背景\n"
          ]
        }
      ],
      "source": [
        "# 訓練データと検証データのジェネレータを作成\n",
        "train_generator = train_datagen.flow_from_directory(\n",
        "    path, target_size=(299, 299), batch_size=batch_size,\n",
        "    class_mode='categorical', save_to_dir=path_save, save_format='jpeg',\n",
        "    subset='training'\n",
        ")\n",
        "validation_generator = train_datagen.flow_from_directory(\n",
        "    path, target_size=(299, 299), batch_size=batch_size,\n",
        "    class_mode='categorical', subset='validation'\n",
        ")\n",
        "# クラスラベルとインデックスの辞書を取得\n",
        "class_indices = train_generator.class_indices\n",
        "\n",
        "# インデックスに基づいてクラスラベルのリストを生成\n",
        "classes = [k for k, v in sorted(class_indices.items(), key=lambda item: item[1])]\n",
        "\n",
        "# クラスラベルのリストを表示\n",
        "for i, class_label in enumerate(classes):\n",
        "    print(f\"Class {i}: {class_label}\")\n"
      ]
    },
    {
      "cell_type": "markdown",
      "metadata": {
        "id": "OrEUTkvHR-9S"
      },
      "source": [
        "セル6：モデルの構築とコンパイル"
      ]
    },
    {
      "cell_type": "code",
      "execution_count": null,
      "metadata": {
        "colab": {
          "base_uri": "https://localhost:8080/"
        },
        "id": "JWyW2BTqjydB",
        "outputId": "7ed25b4c-3929-49fa-cd36-b67d5a661e4e"
      },
      "outputs": [
        {
          "name": "stdout",
          "output_type": "stream",
          "text": [
            "Downloading data from https://storage.googleapis.com/tensorflow/keras-applications/inception_resnet_v2/inception_resnet_v2_weights_tf_dim_ordering_tf_kernels_notop.h5\n",
            "219055592/219055592 [==============================] - 1s 0us/step\n",
            "Model: \"sequential\"\n",
            "_________________________________________________________________\n",
            " Layer (type)                Output Shape              Param #   \n",
            "=================================================================\n",
            " inception_resnet_v2 (Funct  (None, 8, 8, 1536)        54336736  \n",
            " ional)                                                          \n",
            "                                                                 \n",
            " flatten (Flatten)           (None, 98304)             0         \n",
            "                                                                 \n",
            " dense (Dense)               (None, 11)                1081355   \n",
            "                                                                 \n",
            "=================================================================\n",
            "Total params: 55418091 (211.40 MB)\n",
            "Trainable params: 1081355 (4.13 MB)\n",
            "Non-trainable params: 54336736 (207.28 MB)\n",
            "_________________________________________________________________\n",
            "None\n"
          ]
        }
      ],
      "source": [
        "# モデルの構築\n",
        "input_tensor = Input(shape=(299, 299, 3))\n",
        "base_model = InceptionResNetV2(weights='imagenet', input_tensor=input_tensor, include_top=False)\n",
        "n_layers_base_model = len(base_model.layers)\n",
        "\n",
        "# ベースモデルの層を凍結\n",
        "base_model.trainable = False\n",
        "\n",
        "# モデルの構築\n",
        "model = Sequential()\n",
        "model.add(base_model)\n",
        "model.add(Flatten())  # 一次元の配列に変換\n",
        "model.add(Dense(n_classes, activation='softmax'))\n",
        "\n",
        "# モデルのコンパイル\n",
        "model.compile(loss='categorical_crossentropy', optimizer=Adam(learning_rate=1e-4), metrics=['accuracy'])\n",
        "\n",
        "# モデルの概要の表示\n",
        "print(model.summary())\n",
        "\n"
      ]
    },
    {
      "cell_type": "markdown",
      "metadata": {
        "id": "5EoRmfJvSFwn"
      },
      "source": [
        "セル7：モデルの訓練"
      ]
    },
    {
      "cell_type": "code",
      "execution_count": null,
      "metadata": {
        "colab": {
          "background_save": true,
          "base_uri": "https://localhost:8080/"
        },
        "id": "JDPySu5lyOAD",
        "outputId": "090c83bc-0a52-47ec-d3f2-66bdf21d1a70"
      },
      "outputs": [
        {
          "name": "stderr",
          "output_type": "stream",
          "text": [
            "<ipython-input-7-b3842444cfdd>:2: UserWarning: `Model.fit_generator` is deprecated and will be removed in a future version. Please use `Model.fit`, which supports generators.\n",
            "  history = model.fit_generator(\n"
          ]
        },
        {
          "name": "stdout",
          "output_type": "stream",
          "text": [
            "Epoch 1/10\n",
            "52/52 [==============================] - 336s 6s/step - loss: 1.6145 - accuracy: 0.5951 - val_loss: 0.7885 - val_accuracy: 0.6979\n",
            "Epoch 2/10\n",
            "52/52 [==============================] - 284s 5s/step - loss: 0.3948 - accuracy: 0.9049 - val_loss: 0.9653 - val_accuracy: 0.8021\n",
            "Epoch 3/10\n",
            "52/52 [==============================] - 316s 6s/step - loss: 0.5159 - accuracy: 0.9341 - val_loss: 0.7053 - val_accuracy: 0.7917\n",
            "Epoch 4/10\n",
            "52/52 [==============================] - 321s 6s/step - loss: 0.6281 - accuracy: 0.9195 - val_loss: 0.7067 - val_accuracy: 0.8021\n",
            "Epoch 5/10\n",
            "52/52 [==============================] - 319s 6s/step - loss: 0.4611 - accuracy: 0.9366 - val_loss: 0.7863 - val_accuracy: 0.8021\n",
            "Epoch 6/10\n",
            "52/52 [==============================] - 317s 6s/step - loss: 0.4355 - accuracy: 0.9244 - val_loss: 0.6846 - val_accuracy: 0.8021\n",
            "Epoch 7/10\n",
            "52/52 [==============================] - 317s 6s/step - loss: 0.5421 - accuracy: 0.9244 - val_loss: 0.8593 - val_accuracy: 0.8125\n",
            "Epoch 8/10\n",
            "52/52 [==============================] - 313s 6s/step - loss: 0.4845 - accuracy: 0.9415 - val_loss: 0.6656 - val_accuracy: 0.8125\n",
            "Epoch 9/10\n",
            "52/52 [==============================] - 311s 6s/step - loss: 0.6232 - accuracy: 0.9366 - val_loss: 0.8016 - val_accuracy: 0.8021\n",
            "Epoch 10/10\n",
            "52/52 [==============================] - 316s 6s/step - loss: 0.5396 - accuracy: 0.9195 - val_loss: 0.7267 - val_accuracy: 0.8021\n"
          ]
        }
      ],
      "source": [
        "# モデルの訓練\n",
        "history = model.fit_generator(\n",
        "    train_generator,\n",
        "    steps_per_epoch=train_generator.n // train_generator.batch_size,\n",
        "    epochs=10,\n",
        "    validation_data=validation_generator,\n",
        "    validation_steps=validation_generator.n // validation_generator.batch_size\n",
        ")\n"
      ]
    },
    {
      "cell_type": "markdown",
      "metadata": {
        "id": "x-pD2VQHScyL"
      },
      "source": [
        "セル8：訓練結果の表示"
      ]
    },
    {
      "cell_type": "code",
      "execution_count": null,
      "metadata": {
        "colab": {
          "background_save": true
        },
        "id": "HOgqChYmrVth",
        "outputId": "ef34cd69-c63a-4a17-ced8-0dbb177a872d"
      },
      "outputs": [
        {
          "data": {
            "image/png": "[encoded data removed]",
            "text/plain": [
              "<Figure size 640x480 with 1 Axes>"
            ]
          },
          "metadata": {},
          "output_type": "display_data"
        },
        {
          "data": {
            "image/png": "[encoded data removed]",
            "text/plain": [
              "<Figure size 640x480 with 1 Axes>"
            ]
          },
          "metadata": {},
          "output_type": "display_data"
        }
      ],
      "source": [
        "# 訓練の履歴をプロット\n",
        "plt.figure()\n",
        "plt.plot(history.history[\"accuracy\"], label=\"Training Acc\")\n",
        "plt.plot(history.history[\"val_accuracy\"], label=\"Validation Acc\")\n",
        "plt.legend()\n",
        "\n",
        "plt.figure()\n",
        "plt.plot(history.history[\"loss\"], label=\"Training Loss\")\n",
        "plt.plot(history.history[\"val_loss\"], label=\"Validation Loss\")\n",
        "plt.legend()\n",
        "plt.show()\n"
      ]
    },
    {
      "cell_type": "code",
      "execution_count": null,
      "metadata": {
        "colab": {
          "background_save": true
        },
        "id": "FcE-QpIrf9cv",
        "outputId": "67b344a3-2767-47f7-b09e-e9fc86fafeb5"
      },
      "outputs": [
        {
          "name": "stdout",
          "output_type": "stream",
          "text": [
            "Class 0: アカザ\n",
            "Class 1: アユ\n",
            "Class 2: ウナギ\n",
            "Class 3: カジカ\n",
            "Class 4: コイ\n",
            "Class 5: サケ\n",
            "Class 6: サンフィッシュ\n",
            "Class 7: ドジョウ\n",
            "Class 8: ナマズ\n",
            "Class 9: ハゼ\n",
            "Class 10: 背景\n"
          ]
        }
      ],
      "source": [
        "# クラスラベルのリストを表示\n",
        "for i, class_label in enumerate(classes):\n",
        "    print(f\"Class {i}: {class_label}\")"
      ]
    },
    {
      "cell_type": "markdown",
      "metadata": {
        "id": "5PQJt-ukSjkS"
      },
      "source": [
        "セル9：モデルとクラス情報の保存"
      ]
    },
    {
      "cell_type": "code",
      "execution_count": null,
      "metadata": {
        "id": "Af0rBqTJzD4g",
        "colab": {
          "base_uri": "https://localhost:8080/",
          "height": 249
        },
        "outputId": "d444923d-aa44-4208-ca75-26e12c263e55"
      },
      "outputs": [
        {
          "output_type": "error",
          "ename": "NameError",
          "evalue": "ignored",
          "traceback": [
            "\u001b[0;31m---------------------------------------------------------------------------\u001b[0m",
            "\u001b[0;31mNameError\u001b[0m                                 Traceback (most recent call last)",
            "\u001b[0;32m<ipython-input-1-eb25a6c44823>\u001b[0m in \u001b[0;36m<cell line: 2>\u001b[0;34m()\u001b[0m\n\u001b[1;32m      1\u001b[0m \u001b[0;31m# クラス情報とモデルを保存\u001b[0m\u001b[0;34m\u001b[0m\u001b[0;34m\u001b[0m\u001b[0m\n\u001b[0;32m----> 2\u001b[0;31m \u001b[0mpickle\u001b[0m\u001b[0;34m.\u001b[0m\u001b[0mdump\u001b[0m\u001b[0;34m(\u001b[0m\u001b[0mclasses\u001b[0m\u001b[0;34m,\u001b[0m \u001b[0mopen\u001b[0m\u001b[0;34m(\u001b[0m\u001b[0;34m'./classes.sav'\u001b[0m\u001b[0;34m,\u001b[0m \u001b[0;34m'wb'\u001b[0m\u001b[0;34m)\u001b[0m\u001b[0;34m)\u001b[0m\u001b[0;34m\u001b[0m\u001b[0;34m\u001b[0m\u001b[0m\n\u001b[0m\u001b[1;32m      3\u001b[0m \u001b[0mmodel\u001b[0m\u001b[0;34m.\u001b[0m\u001b[0msave\u001b[0m\u001b[0;34m(\u001b[0m\u001b[0;34m'./cnn_saved_model'\u001b[0m\u001b[0;34m)\u001b[0m\u001b[0;34m\u001b[0m\u001b[0;34m\u001b[0m\u001b[0m\n\u001b[1;32m      4\u001b[0m \u001b[0;34m\u001b[0m\u001b[0m\n\u001b[1;32m      5\u001b[0m \u001b[0;31m# 保存した画像を削除\u001b[0m\u001b[0;34m\u001b[0m\u001b[0;34m\u001b[0m\u001b[0m\n",
            "\u001b[0;31mNameError\u001b[0m: name 'pickle' is not defined"
          ]
        }
      ],
      "source": [
        "# クラス情報とモデルを保存\n",
        "pickle.dump(classes, open('./classes.sav', 'wb'))\n",
        "model.save('./cnn_saved_model')\n",
        "\n",
        "# 保存した画像を削除\n",
        "shutil.rmtree(path_save)\n",
        "os.mkdir(path_save)\n",
        "# クラスラベルとインデックスの辞書を取得\n",
        "class_indices = train_generator.class_indices\n"
      ]
    },
    {
      "cell_type": "markdown",
      "metadata": {
        "id": "L9R_HCFNS3uo"
      },
      "source": [
        "セル10：モデルとクラス情報の読み込み"
      ]
    },
    {
      "cell_type": "code",
      "execution_count": null,
      "metadata": {
        "id": "EEHqYSN9WB-w"
      },
      "outputs": [],
      "source": [
        "# 保存したモデルとクラス情報を読み込む\n",
        "import tensorflow as tf\n",
        "# SavedModel 形式でモデルを読み込む\n",
        "model = tf.keras.models.load_model('./cnn_saved_model')\n",
        "classes = pickle.load(open('./classes.sav', 'rb'))\n",
        "for i, class_label in enumerate(classes):\n",
        "    print(f\"Class {i}: {class_label}\")"
      ]
    },
    {
      "cell_type": "markdown",
      "metadata": {
        "id": "q_wPmRxHTERr"
      },
      "source": [
        "セル11：画像の読み込みと前処理（1枚目）"
      ]
    },
    {
      "cell_type": "code",
      "execution_count": null,
      "metadata": {
        "id": "b0lFo7GQfVxx"
      },
      "outputs": [],
      "source": [
        "# 1枚目の画像を読み込み、前処理を行う\n",
        "img = cv2.imread('back.jpg')\n",
        "img = cv2.resize(img, dsize=(299, 299))\n",
        "img = np.array(img)\n",
        "img = np.expand_dims(img, axis=0)\n",
        "img = preprocess_input(img)\n"
      ]
    },
    {
      "cell_type": "markdown",
      "metadata": {
        "id": "slB12_GrTMsA"
      },
      "source": [
        "セル12：モデルによる予測と結果の表示（1枚目）"
      ]
    },
    {
      "cell_type": "code",
      "execution_count": null,
      "metadata": {
        "id": "f1AabVtgNvJ3"
      },
      "outputs": [],
      "source": [
        "# 1枚目の画像に対する予測を行い、結果を表示する\n",
        "result = model.predict(img)\n",
        "np.set_printoptions(precision=3, suppress=True)\n",
        "print(result * 100)  # 結果をパーセント表示\n",
        "pred = result.argmax()\n",
        "print(f\"Predicted class: {classes[pred]}\")\n"
      ]
    },
    {
      "cell_type": "markdown",
      "metadata": {
        "id": "_eDk9TLUTS7P"
      },
      "source": [
        "セル13：画像の読み込みと前処理（2枚目）"
      ]
    },
    {
      "cell_type": "code",
      "execution_count": null,
      "metadata": {
        "id": "MoSjo15FwwRb"
      },
      "outputs": [],
      "source": [
        "# 2枚目の画像を読み込み、前処理を行う\n",
        "img = cv2.imread('stick.jpg')\n",
        "img = cv2.resize(img, dsize=(299, 299))\n",
        "img = np.array(img)\n",
        "img = np.expand_dims(img, axis=0)\n",
        "img = preprocess_input(img)\n",
        "\n"
      ]
    },
    {
      "cell_type": "markdown",
      "metadata": {
        "id": "HiM10fQVTb_O"
      },
      "source": [
        "セル14：モデルによる予測と結果の表示（2枚目）"
      ]
    },
    {
      "cell_type": "code",
      "execution_count": null,
      "metadata": {
        "id": "DazVC13bOnQy"
      },
      "outputs": [],
      "source": [
        "# 2枚目の画像に対する予測を行い、結果を表示する\n",
        "result = model.predict(img)\n",
        "np.set_printoptions(precision=3, suppress=True)\n",
        "print(result * 100)  # 結果をパーセント表示\n",
        "pred = result.argmax()\n",
        "print(f\"Predicted class: {classes[pred]}\")\n"
      ]
    }
  ],
  "metadata": {
    "accelerator": "TPU",
    "colab": {
      "provenance": [],
      "include_colab_link": true
    },
    "kernelspec": {
      "display_name": "Python 3",
      "name": "python3"
    },
    "language_info": {
      "name": "python"
    }
  },
  "nbformat": 4,
  "nbformat_minor": 0
}